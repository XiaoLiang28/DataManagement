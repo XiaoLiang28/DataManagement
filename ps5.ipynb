{
  "nbformat": 4,
  "nbformat_minor": 0,
  "metadata": {
    "colab": {
      "provenance": [],
      "authorship_tag": "ABX9TyOYTxZABTUYmBR6oy3VdeAs",
      "include_colab_link": true
    },
    "kernelspec": {
      "name": "python3",
      "display_name": "Python 3"
    },
    "language_info": {
      "name": "python"
    }
  },
  "cells": [
    {
      "cell_type": "markdown",
      "metadata": {
        "id": "view-in-github",
        "colab_type": "text"
      },
      "source": [
        "<a href=\"https://colab.research.google.com/github/XiaoLiang28/Datamanagement/blob/main/ps5.ipynb\" target=\"_parent\"><img src=\"https://colab.research.google.com/assets/colab-badge.svg\" alt=\"Open In Colab\"/></a>"
      ]
    },
    {
      "cell_type": "markdown",
      "source": [
        "# Set Up"
      ],
      "metadata": {
        "id": "HYYgZKOa4gsS"
      }
    },
    {
      "cell_type": "code",
      "execution_count": 2,
      "metadata": {
        "id": "fWChcFhl2zom"
      },
      "outputs": [],
      "source": [
        "#---------SETUP----------------------------------\n",
        "#get useful libraries\n",
        "import time, os, sys, re #basics\n",
        "import zipfile, json, datetime, string   #string for annotating points in scatter\n",
        "import numpy as np #basic math\n",
        "from statistics import * #stats\n",
        "\n",
        "import matplotlib.pyplot as plt #import pylab as plt #apparently discouraged now:\n",
        " #https://stackoverflow.com/questions/11469336/what-is-the-difference-between-pylab-and-pyplot\n",
        " #https://www.tutorialspoint.com/matplotlib/matplotlib_pylab_module.htm\n",
        "\n",
        "import pandas as pd\n",
        "import pandas_datareader as pdr\n",
        "from pandas_datareader import wb\n",
        "from pandas.io.formats.style import Styler\n",
        "#s4 = Styler(df4, uuid_len=0, cell_ids=False)\n",
        "\n",
        "import urllib  #weird, guess need to have os and pandas imported for this to work  %TODO/LATER ditch it, its weird anyway, just use wget/curl\n",
        "\n",
        "from google.colab import files\n",
        "\n",
        "#import webbrowser\n",
        "\n",
        "import seaborn as sns\n",
        "\n",
        "from google.colab import data_table\n",
        "data_table.enable_dataframe_formatter() #this enables spreadsheet view upon calling dataframe (without() )\n",
        "\n",
        "#many tricks how to extend notebook functionality\n",
        "#https://coderzcolumn.com/tutorials/python/list-of-useful-magic-commands-in-jupyter-notebook-lab\n",
        "#will display all output not just last command\n",
        "from IPython.core.interactiveshell import InteractiveShell\n",
        "InteractiveShell.ast_node_interactivity = \"all\"\n",
        "\n",
        "#MAGICS and THEMES/STYLES: important! does affect not just shading/colors, but also fonts, spacing, etc\n",
        "#(even if you only select default (v not selecting anything) [but does seem to work better if you do make explicit sleections])\n",
        "\n",
        "###magics: https://ipython.readthedocs.io/en/stable/interactive/magics.html\n",
        "#most essential setup for vis: it does affect vis! careful!! stick with inline, maybe notebook; others mostly for non-notebook, eg spyder environ\n",
        "#https://jakevdp.github.io/PythonDataScienceHandbook/04.00-introduction-to-matplotlib.html recomends *inline*!\n",
        "#show current one:\n",
        "#%matplotlib\n",
        "#%matplotlib --list\n",
        "#interactive plots:\n",
        "#%matplotlib notebook\n",
        "#static images of your plot:\n",
        "%matplotlib inline\n",
        "#may play with this one and other magics (btw default is probably agg)\n",
        "#%matplotlib nbagg\n",
        "\n",
        "###themes/styles: https://matplotlib.org/stable/gallery/style_sheets/style_sheets_reference.html\n",
        "#https://jakevdp.github.io/PythonDataScienceHandbook/04.11-settings-and-stylesheets.html\n",
        "#https://matplotlib.org/stable/tutorials/introductory/customizing.html\n",
        "#here more about art and style than under the hood functionality as with magics, explore and experiment\n",
        "#many may find 'default' or seaborn ones more pleasing; my fav 'classic' is back from 90s ;)\n",
        "#plt.style.available #list available styles :) may install more\n",
        "#plt.style.use('default') # more delicate subtle than classic\n",
        "plt.style.use('classic')  #  'seaborn-whitegrid' 'seaborn-white' 'seaborn-poster'\n",
        "# btw: magics v theme/style sequence matters, eg if i specify classic style before inline magic, i wouldnt get grey bounding box im getting"
      ]
    },
    {
      "cell_type": "markdown",
      "source": [
        "# Data Import"
      ],
      "metadata": {
        "id": "P14uhsAn4tbk"
      }
    },
    {
      "cell_type": "code",
      "source": [
        "hdi=pd.read_excel(\"https://github.com/XiaoLiang28/Datamanagement/raw/main/Human%20Development%20Index(1)%20(1).xlsx\")"
      ],
      "metadata": {
        "id": "ergOo4RU4wma"
      },
      "execution_count": 3,
      "outputs": []
    },
    {
      "cell_type": "code",
      "source": [
        "hdi = hdi.drop(['Unnamed: 3', 'Unnamed: 5', 'Unnamed: 7', 'Unnamed: 9', 'Unnamed: 11'], axis=1)"
      ],
      "metadata": {
        "id": "2ezXvTdj5BNl"
      },
      "execution_count": 4,
      "outputs": []
    },
    {
      "cell_type": "code",
      "source": [
        "hdi.rename(columns={'Country ':'Country', 'Human Development Index (HDI) ':'HDI'},inplace=True)"
      ],
      "metadata": {
        "id": "C6n_zrNW5Cdu"
      },
      "execution_count": 28,
      "outputs": []
    },
    {
      "cell_type": "code",
      "source": [
        "hdi"
      ],
      "metadata": {
        "colab": {
          "base_uri": "https://localhost:8080/",
          "height": 656
        },
        "id": "34XBLXRR5HbQ",
        "outputId": "b17088fd-1ab9-4e2f-f86e-28f6f545d5dd"
      },
      "execution_count": 29,
      "outputs": [
        {
          "output_type": "execute_result",
          "data": {
            "text/plain": [
              "     HDI Rank                   Country    HDI  Life expectancy at birth  \\\n",
              "0           1               Switzerland  0.962                   83.9872   \n",
              "1           2                    Norway  0.961                   83.2339   \n",
              "2           3                   Iceland  0.959                   82.6782   \n",
              "3           4    Hong Kong, China (SAR)  0.952                   85.4734   \n",
              "4           5                 Australia  0.951                   84.5265   \n",
              "..        ...                       ...    ...                       ...   \n",
              "186       187                   Burundi  0.426                   61.6627   \n",
              "187       188  Central African Republic  0.404                   53.8947   \n",
              "188       189                     Niger  0.400                   61.5763   \n",
              "189       190                      Chad  0.394                   52.5254   \n",
              "190       191               South Sudan  0.385                   54.9752   \n",
              "\n",
              "     Expected years of schooling  Mean years of schooling  \\\n",
              "0                      16.500299                13.859660   \n",
              "1                      18.185200                13.003630   \n",
              "2                      19.163059                13.767170   \n",
              "3                      17.278170                12.226210   \n",
              "4                      21.054590                12.726820   \n",
              "..                           ...                      ...   \n",
              "186                    10.722722                 3.129267   \n",
              "187                     8.040172                 4.334000   \n",
              "188                     6.957112                 2.116717   \n",
              "189                     8.035914                 2.573774   \n",
              "190                     5.542510                 5.726140   \n",
              "\n",
              "     Gross national income (GNI) per capita Human Development  \n",
              "0                              66933.004540         Very High  \n",
              "1                              64660.106220         Very High  \n",
              "2                              55782.049810         Very High  \n",
              "3                              62606.845400         Very High  \n",
              "4                              49238.433350         Very High  \n",
              "..                                      ...               ...  \n",
              "186                              731.786709               Low  \n",
              "187                              966.058611               Low  \n",
              "188                             1239.866936               Low  \n",
              "189                             1364.169417               Low  \n",
              "190                              767.787000               Low  \n",
              "\n",
              "[191 rows x 8 columns]"
            ],
            "text/html": [
              "\n",
              "  <div id=\"df-3768e09c-6579-4704-8611-1bbd603132ba\" class=\"colab-df-container\">\n",
              "    <div>\n",
              "<style scoped>\n",
              "    .dataframe tbody tr th:only-of-type {\n",
              "        vertical-align: middle;\n",
              "    }\n",
              "\n",
              "    .dataframe tbody tr th {\n",
              "        vertical-align: top;\n",
              "    }\n",
              "\n",
              "    .dataframe thead th {\n",
              "        text-align: right;\n",
              "    }\n",
              "</style>\n",
              "<table border=\"1\" class=\"dataframe\">\n",
              "  <thead>\n",
              "    <tr style=\"text-align: right;\">\n",
              "      <th></th>\n",
              "      <th>HDI Rank</th>\n",
              "      <th>Country</th>\n",
              "      <th>HDI</th>\n",
              "      <th>Life expectancy at birth</th>\n",
              "      <th>Expected years of schooling</th>\n",
              "      <th>Mean years of schooling</th>\n",
              "      <th>Gross national income (GNI) per capita</th>\n",
              "      <th>Human Development</th>\n",
              "    </tr>\n",
              "  </thead>\n",
              "  <tbody>\n",
              "    <tr>\n",
              "      <th>0</th>\n",
              "      <td>1</td>\n",
              "      <td>Switzerland</td>\n",
              "      <td>0.962</td>\n",
              "      <td>83.9872</td>\n",
              "      <td>16.500299</td>\n",
              "      <td>13.859660</td>\n",
              "      <td>66933.004540</td>\n",
              "      <td>Very High</td>\n",
              "    </tr>\n",
              "    <tr>\n",
              "      <th>1</th>\n",
              "      <td>2</td>\n",
              "      <td>Norway</td>\n",
              "      <td>0.961</td>\n",
              "      <td>83.2339</td>\n",
              "      <td>18.185200</td>\n",
              "      <td>13.003630</td>\n",
              "      <td>64660.106220</td>\n",
              "      <td>Very High</td>\n",
              "    </tr>\n",
              "    <tr>\n",
              "      <th>2</th>\n",
              "      <td>3</td>\n",
              "      <td>Iceland</td>\n",
              "      <td>0.959</td>\n",
              "      <td>82.6782</td>\n",
              "      <td>19.163059</td>\n",
              "      <td>13.767170</td>\n",
              "      <td>55782.049810</td>\n",
              "      <td>Very High</td>\n",
              "    </tr>\n",
              "    <tr>\n",
              "      <th>3</th>\n",
              "      <td>4</td>\n",
              "      <td>Hong Kong, China (SAR)</td>\n",
              "      <td>0.952</td>\n",
              "      <td>85.4734</td>\n",
              "      <td>17.278170</td>\n",
              "      <td>12.226210</td>\n",
              "      <td>62606.845400</td>\n",
              "      <td>Very High</td>\n",
              "    </tr>\n",
              "    <tr>\n",
              "      <th>4</th>\n",
              "      <td>5</td>\n",
              "      <td>Australia</td>\n",
              "      <td>0.951</td>\n",
              "      <td>84.5265</td>\n",
              "      <td>21.054590</td>\n",
              "      <td>12.726820</td>\n",
              "      <td>49238.433350</td>\n",
              "      <td>Very High</td>\n",
              "    </tr>\n",
              "    <tr>\n",
              "      <th>...</th>\n",
              "      <td>...</td>\n",
              "      <td>...</td>\n",
              "      <td>...</td>\n",
              "      <td>...</td>\n",
              "      <td>...</td>\n",
              "      <td>...</td>\n",
              "      <td>...</td>\n",
              "      <td>...</td>\n",
              "    </tr>\n",
              "    <tr>\n",
              "      <th>186</th>\n",
              "      <td>187</td>\n",
              "      <td>Burundi</td>\n",
              "      <td>0.426</td>\n",
              "      <td>61.6627</td>\n",
              "      <td>10.722722</td>\n",
              "      <td>3.129267</td>\n",
              "      <td>731.786709</td>\n",
              "      <td>Low</td>\n",
              "    </tr>\n",
              "    <tr>\n",
              "      <th>187</th>\n",
              "      <td>188</td>\n",
              "      <td>Central African Republic</td>\n",
              "      <td>0.404</td>\n",
              "      <td>53.8947</td>\n",
              "      <td>8.040172</td>\n",
              "      <td>4.334000</td>\n",
              "      <td>966.058611</td>\n",
              "      <td>Low</td>\n",
              "    </tr>\n",
              "    <tr>\n",
              "      <th>188</th>\n",
              "      <td>189</td>\n",
              "      <td>Niger</td>\n",
              "      <td>0.400</td>\n",
              "      <td>61.5763</td>\n",
              "      <td>6.957112</td>\n",
              "      <td>2.116717</td>\n",
              "      <td>1239.866936</td>\n",
              "      <td>Low</td>\n",
              "    </tr>\n",
              "    <tr>\n",
              "      <th>189</th>\n",
              "      <td>190</td>\n",
              "      <td>Chad</td>\n",
              "      <td>0.394</td>\n",
              "      <td>52.5254</td>\n",
              "      <td>8.035914</td>\n",
              "      <td>2.573774</td>\n",
              "      <td>1364.169417</td>\n",
              "      <td>Low</td>\n",
              "    </tr>\n",
              "    <tr>\n",
              "      <th>190</th>\n",
              "      <td>191</td>\n",
              "      <td>South Sudan</td>\n",
              "      <td>0.385</td>\n",
              "      <td>54.9752</td>\n",
              "      <td>5.542510</td>\n",
              "      <td>5.726140</td>\n",
              "      <td>767.787000</td>\n",
              "      <td>Low</td>\n",
              "    </tr>\n",
              "  </tbody>\n",
              "</table>\n",
              "<p>191 rows × 8 columns</p>\n",
              "</div>\n",
              "    <div class=\"colab-df-buttons\">\n",
              "\n",
              "  <div class=\"colab-df-container\">\n",
              "    <button class=\"colab-df-convert\" onclick=\"convertToInteractive('df-3768e09c-6579-4704-8611-1bbd603132ba')\"\n",
              "            title=\"Convert this dataframe to an interactive table.\"\n",
              "            style=\"display:none;\">\n",
              "\n",
              "  <svg xmlns=\"http://www.w3.org/2000/svg\" height=\"24px\" viewBox=\"0 -960 960 960\">\n",
              "    <path d=\"M120-120v-720h720v720H120Zm60-500h600v-160H180v160Zm220 220h160v-160H400v160Zm0 220h160v-160H400v160ZM180-400h160v-160H180v160Zm440 0h160v-160H620v160ZM180-180h160v-160H180v160Zm440 0h160v-160H620v160Z\"/>\n",
              "  </svg>\n",
              "    </button>\n",
              "\n",
              "  <style>\n",
              "    .colab-df-container {\n",
              "      display:flex;\n",
              "      gap: 12px;\n",
              "    }\n",
              "\n",
              "    .colab-df-convert {\n",
              "      background-color: #E8F0FE;\n",
              "      border: none;\n",
              "      border-radius: 50%;\n",
              "      cursor: pointer;\n",
              "      display: none;\n",
              "      fill: #1967D2;\n",
              "      height: 32px;\n",
              "      padding: 0 0 0 0;\n",
              "      width: 32px;\n",
              "    }\n",
              "\n",
              "    .colab-df-convert:hover {\n",
              "      background-color: #E2EBFA;\n",
              "      box-shadow: 0px 1px 2px rgba(60, 64, 67, 0.3), 0px 1px 3px 1px rgba(60, 64, 67, 0.15);\n",
              "      fill: #174EA6;\n",
              "    }\n",
              "\n",
              "    .colab-df-buttons div {\n",
              "      margin-bottom: 4px;\n",
              "    }\n",
              "\n",
              "    [theme=dark] .colab-df-convert {\n",
              "      background-color: #3B4455;\n",
              "      fill: #D2E3FC;\n",
              "    }\n",
              "\n",
              "    [theme=dark] .colab-df-convert:hover {\n",
              "      background-color: #434B5C;\n",
              "      box-shadow: 0px 1px 3px 1px rgba(0, 0, 0, 0.15);\n",
              "      filter: drop-shadow(0px 1px 2px rgba(0, 0, 0, 0.3));\n",
              "      fill: #FFFFFF;\n",
              "    }\n",
              "  </style>\n",
              "\n",
              "    <script>\n",
              "      const buttonEl =\n",
              "        document.querySelector('#df-3768e09c-6579-4704-8611-1bbd603132ba button.colab-df-convert');\n",
              "      buttonEl.style.display =\n",
              "        google.colab.kernel.accessAllowed ? 'block' : 'none';\n",
              "\n",
              "      async function convertToInteractive(key) {\n",
              "        const element = document.querySelector('#df-3768e09c-6579-4704-8611-1bbd603132ba');\n",
              "        const dataTable =\n",
              "          await google.colab.kernel.invokeFunction('convertToInteractive',\n",
              "                                                    [key], {});\n",
              "        if (!dataTable) return;\n",
              "\n",
              "        const docLinkHtml = 'Like what you see? Visit the ' +\n",
              "          '<a target=\"_blank\" href=https://colab.research.google.com/notebooks/data_table.ipynb>data table notebook</a>'\n",
              "          + ' to learn more about interactive tables.';\n",
              "        element.innerHTML = '';\n",
              "        dataTable['output_type'] = 'display_data';\n",
              "        await google.colab.output.renderOutput(dataTable, element);\n",
              "        const docLink = document.createElement('div');\n",
              "        docLink.innerHTML = docLinkHtml;\n",
              "        element.appendChild(docLink);\n",
              "      }\n",
              "    </script>\n",
              "  </div>\n",
              "\n",
              "\n",
              "<div id=\"df-b1e76d43-0914-44af-9c01-3e4090ffe7c8\">\n",
              "  <button class=\"colab-df-quickchart\" onclick=\"quickchart('df-b1e76d43-0914-44af-9c01-3e4090ffe7c8')\"\n",
              "            title=\"Suggest charts\"\n",
              "            style=\"display:none;\">\n",
              "\n",
              "<svg xmlns=\"http://www.w3.org/2000/svg\" height=\"24px\"viewBox=\"0 0 24 24\"\n",
              "     width=\"24px\">\n",
              "    <g>\n",
              "        <path d=\"M19 3H5c-1.1 0-2 .9-2 2v14c0 1.1.9 2 2 2h14c1.1 0 2-.9 2-2V5c0-1.1-.9-2-2-2zM9 17H7v-7h2v7zm4 0h-2V7h2v10zm4 0h-2v-4h2v4z\"/>\n",
              "    </g>\n",
              "</svg>\n",
              "  </button>\n",
              "\n",
              "<style>\n",
              "  .colab-df-quickchart {\n",
              "      --bg-color: #E8F0FE;\n",
              "      --fill-color: #1967D2;\n",
              "      --hover-bg-color: #E2EBFA;\n",
              "      --hover-fill-color: #174EA6;\n",
              "      --disabled-fill-color: #AAA;\n",
              "      --disabled-bg-color: #DDD;\n",
              "  }\n",
              "\n",
              "  [theme=dark] .colab-df-quickchart {\n",
              "      --bg-color: #3B4455;\n",
              "      --fill-color: #D2E3FC;\n",
              "      --hover-bg-color: #434B5C;\n",
              "      --hover-fill-color: #FFFFFF;\n",
              "      --disabled-bg-color: #3B4455;\n",
              "      --disabled-fill-color: #666;\n",
              "  }\n",
              "\n",
              "  .colab-df-quickchart {\n",
              "    background-color: var(--bg-color);\n",
              "    border: none;\n",
              "    border-radius: 50%;\n",
              "    cursor: pointer;\n",
              "    display: none;\n",
              "    fill: var(--fill-color);\n",
              "    height: 32px;\n",
              "    padding: 0;\n",
              "    width: 32px;\n",
              "  }\n",
              "\n",
              "  .colab-df-quickchart:hover {\n",
              "    background-color: var(--hover-bg-color);\n",
              "    box-shadow: 0 1px 2px rgba(60, 64, 67, 0.3), 0 1px 3px 1px rgba(60, 64, 67, 0.15);\n",
              "    fill: var(--button-hover-fill-color);\n",
              "  }\n",
              "\n",
              "  .colab-df-quickchart-complete:disabled,\n",
              "  .colab-df-quickchart-complete:disabled:hover {\n",
              "    background-color: var(--disabled-bg-color);\n",
              "    fill: var(--disabled-fill-color);\n",
              "    box-shadow: none;\n",
              "  }\n",
              "\n",
              "  .colab-df-spinner {\n",
              "    border: 2px solid var(--fill-color);\n",
              "    border-color: transparent;\n",
              "    border-bottom-color: var(--fill-color);\n",
              "    animation:\n",
              "      spin 1s steps(1) infinite;\n",
              "  }\n",
              "\n",
              "  @keyframes spin {\n",
              "    0% {\n",
              "      border-color: transparent;\n",
              "      border-bottom-color: var(--fill-color);\n",
              "      border-left-color: var(--fill-color);\n",
              "    }\n",
              "    20% {\n",
              "      border-color: transparent;\n",
              "      border-left-color: var(--fill-color);\n",
              "      border-top-color: var(--fill-color);\n",
              "    }\n",
              "    30% {\n",
              "      border-color: transparent;\n",
              "      border-left-color: var(--fill-color);\n",
              "      border-top-color: var(--fill-color);\n",
              "      border-right-color: var(--fill-color);\n",
              "    }\n",
              "    40% {\n",
              "      border-color: transparent;\n",
              "      border-right-color: var(--fill-color);\n",
              "      border-top-color: var(--fill-color);\n",
              "    }\n",
              "    60% {\n",
              "      border-color: transparent;\n",
              "      border-right-color: var(--fill-color);\n",
              "    }\n",
              "    80% {\n",
              "      border-color: transparent;\n",
              "      border-right-color: var(--fill-color);\n",
              "      border-bottom-color: var(--fill-color);\n",
              "    }\n",
              "    90% {\n",
              "      border-color: transparent;\n",
              "      border-bottom-color: var(--fill-color);\n",
              "    }\n",
              "  }\n",
              "</style>\n",
              "\n",
              "  <script>\n",
              "    async function quickchart(key) {\n",
              "      const quickchartButtonEl =\n",
              "        document.querySelector('#' + key + ' button');\n",
              "      quickchartButtonEl.disabled = true;  // To prevent multiple clicks.\n",
              "      quickchartButtonEl.classList.add('colab-df-spinner');\n",
              "      try {\n",
              "        const charts = await google.colab.kernel.invokeFunction(\n",
              "            'suggestCharts', [key], {});\n",
              "      } catch (error) {\n",
              "        console.error('Error during call to suggestCharts:', error);\n",
              "      }\n",
              "      quickchartButtonEl.classList.remove('colab-df-spinner');\n",
              "      quickchartButtonEl.classList.add('colab-df-quickchart-complete');\n",
              "    }\n",
              "    (() => {\n",
              "      let quickchartButtonEl =\n",
              "        document.querySelector('#df-b1e76d43-0914-44af-9c01-3e4090ffe7c8 button');\n",
              "      quickchartButtonEl.style.display =\n",
              "        google.colab.kernel.accessAllowed ? 'block' : 'none';\n",
              "    })();\n",
              "  </script>\n",
              "</div>\n",
              "    </div>\n",
              "  </div>\n"
            ],
            "application/vnd.google.colaboratory.module+javascript": "\n      import \"https://ssl.gstatic.com/colaboratory/data_table/881c4a0d49046431/data_table.js\";\n\n      const table = window.createDataTable({\n        data: [[{\n            'v': 0,\n            'f': \"0\",\n        },\n{\n            'v': 1,\n            'f': \"1\",\n        },\n\"Switzerland\",\n{\n            'v': 0.962,\n            'f': \"0.962\",\n        },\n{\n            'v': 83.9872,\n            'f': \"83.9872\",\n        },\n{\n            'v': 16.50029945,\n            'f': \"16.50029945\",\n        },\n{\n            'v': 13.85966015,\n            'f': \"13.85966015\",\n        },\n{\n            'v': 66933.00454,\n            'f': \"66933.00454\",\n        },\n\"Very High\"],\n [{\n            'v': 1,\n            'f': \"1\",\n        },\n{\n            'v': 2,\n            'f': \"2\",\n        },\n\"Norway\",\n{\n            'v': 0.961,\n            'f': \"0.961\",\n        },\n{\n            'v': 83.2339,\n            'f': \"83.2339\",\n        },\n{\n            'v': 18.18519974,\n            'f': \"18.18519974\",\n        },\n{\n            'v': 13.00362968,\n            'f': \"13.00362968\",\n        },\n{\n            'v': 64660.10622,\n            'f': \"64660.10622\",\n        },\n\"Very High\"],\n [{\n            'v': 2,\n            'f': \"2\",\n        },\n{\n            'v': 3,\n            'f': \"3\",\n        },\n\"Iceland\",\n{\n            'v': 0.959,\n            'f': \"0.959\",\n        },\n{\n            'v': 82.6782,\n            'f': \"82.6782\",\n        },\n{\n            'v': 19.16305923,\n            'f': \"19.16305923\",\n        },\n{\n            'v': 13.76716995,\n            'f': \"13.76716995\",\n        },\n{\n            'v': 55782.04981,\n            'f': \"55782.04981\",\n        },\n\"Very High\"],\n [{\n            'v': 3,\n            'f': \"3\",\n        },\n{\n            'v': 4,\n            'f': \"4\",\n        },\n\"Hong Kong, China (SAR)\",\n{\n            'v': 0.952,\n            'f': \"0.952\",\n        },\n{\n            'v': 85.4734,\n            'f': \"85.4734\",\n        },\n{\n            'v': 17.27816963,\n            'f': \"17.27816963\",\n        },\n{\n            'v': 12.22620964,\n            'f': \"12.22620964\",\n        },\n{\n            'v': 62606.8454,\n            'f': \"62606.8454\",\n        },\n\"Very High\"],\n [{\n            'v': 4,\n            'f': \"4\",\n        },\n{\n            'v': 5,\n            'f': \"5\",\n        },\n\"Australia\",\n{\n            'v': 0.951,\n            'f': \"0.951\",\n        },\n{\n            'v': 84.5265,\n            'f': \"84.5265\",\n        },\n{\n            'v': 21.05459023,\n            'f': \"21.05459023\",\n        },\n{\n            'v': 12.72681999,\n            'f': \"12.72681999\",\n        },\n{\n            'v': 49238.43335,\n            'f': \"49238.43335\",\n        },\n\"Very High\"],\n [{\n            'v': 5,\n            'f': \"5\",\n        },\n{\n            'v': 6,\n            'f': \"6\",\n        },\n\"Denmark\",\n{\n            'v': 0.948,\n            'f': \"0.948\",\n        },\n{\n            'v': 81.3753,\n            'f': \"81.3753\",\n        },\n{\n            'v': 18.71479988,\n            'f': \"18.71479988\",\n        },\n{\n            'v': 12.96049023,\n            'f': \"12.96049023\",\n        },\n{\n            'v': 60364.78595,\n            'f': \"60364.78595\",\n        },\n\"Very High\"],\n [{\n            'v': 6,\n            'f': \"6\",\n        },\n{\n            'v': 7,\n            'f': \"7\",\n        },\n\"Sweden\",\n{\n            'v': 0.947,\n            'f': \"0.947\",\n        },\n{\n            'v': 82.9833,\n            'f': \"82.9833\",\n        },\n{\n            'v': 19.41852951,\n            'f': \"19.41852951\",\n        },\n{\n            'v': 12.60972023,\n            'f': \"12.60972023\",\n        },\n{\n            'v': 54489.37401,\n            'f': \"54489.37401\",\n        },\n\"Very High\"],\n [{\n            'v': 7,\n            'f': \"7\",\n        },\n{\n            'v': 8,\n            'f': \"8\",\n        },\n\"Ireland\",\n{\n            'v': 0.945,\n            'f': \"0.945\",\n        },\n{\n            'v': 81.9976,\n            'f': \"81.9976\",\n        },\n{\n            'v': 18.94522095,\n            'f': \"18.94522095\",\n        },\n{\n            'v': 11.58222303,\n            'f': \"11.58222303\",\n        },\n{\n            'v': 76168.98443,\n            'f': \"76168.98443\",\n        },\n\"Very High\"],\n [{\n            'v': 8,\n            'f': \"8\",\n        },\n{\n            'v': 9,\n            'f': \"9\",\n        },\n\"Germany\",\n{\n            'v': 0.942,\n            'f': \"0.942\",\n        },\n{\n            'v': 80.6301,\n            'f': \"80.6301\",\n        },\n{\n            'v': 17.01013947,\n            'f': \"17.01013947\",\n        },\n{\n            'v': 14.09096691,\n            'f': \"14.09096691\",\n        },\n{\n            'v': 54534.21682,\n            'f': \"54534.21682\",\n        },\n\"Very High\"],\n [{\n            'v': 9,\n            'f': \"9\",\n        },\n{\n            'v': 10,\n            'f': \"10\",\n        },\n\"Netherlands\",\n{\n            'v': 0.941,\n            'f': \"0.941\",\n        },\n{\n            'v': 81.6873,\n            'f': \"81.6873\",\n        },\n{\n            'v': 18.69316522,\n            'f': \"18.69316522\",\n        },\n{\n            'v': 12.58162975,\n            'f': \"12.58162975\",\n        },\n{\n            'v': 55979.411,\n            'f': \"55979.411\",\n        },\n\"Very High\"],\n [{\n            'v': 10,\n            'f': \"10\",\n        },\n{\n            'v': 11,\n            'f': \"11\",\n        },\n\"Finland\",\n{\n            'v': 0.94,\n            'f': \"0.94\",\n        },\n{\n            'v': 82.0381,\n            'f': \"82.0381\",\n        },\n{\n            'v': 19.05192947,\n            'f': \"19.05192947\",\n        },\n{\n            'v': 12.87362003,\n            'f': \"12.87362003\",\n        },\n{\n            'v': 49452.16672,\n            'f': \"49452.16672\",\n        },\n\"Very High\"],\n [{\n            'v': 11,\n            'f': \"11\",\n        },\n{\n            'v': 12,\n            'f': \"12\",\n        },\n\"Singapore\",\n{\n            'v': 0.939,\n            'f': \"0.939\",\n        },\n{\n            'v': 82.7545,\n            'f': \"82.7545\",\n        },\n{\n            'v': 16.5243206,\n            'f': \"16.5243206\",\n        },\n{\n            'v': 11.92488003,\n            'f': \"11.92488003\",\n        },\n{\n            'v': 90918.64471,\n            'f': \"90918.64471\",\n        },\n\"Very High\"],\n [{\n            'v': 12,\n            'f': \"12\",\n        },\n{\n            'v': 13,\n            'f': \"13\",\n        },\n\"Belgium\",\n{\n            'v': 0.937,\n            'f': \"0.937\",\n        },\n{\n            'v': 81.8787,\n            'f': \"81.8787\",\n        },\n{\n            'v': 19.60421944,\n            'f': \"19.60421944\",\n        },\n{\n            'v': 12.37567997,\n            'f': \"12.37567997\",\n        },\n{\n            'v': 52293.39977,\n            'f': \"52293.39977\",\n        },\n\"Very High\"],\n [{\n            'v': 13,\n            'f': \"13\",\n        },\n{\n            'v': 13,\n            'f': \"13\",\n        },\n\"New Zealand\",\n{\n            'v': 0.937,\n            'f': \"0.937\",\n        },\n{\n            'v': 82.4513,\n            'f': \"82.4513\",\n        },\n{\n            'v': 20.28388977,\n            'f': \"20.28388977\",\n        },\n{\n            'v': 12.94468975,\n            'f': \"12.94468975\",\n        },\n{\n            'v': 44057.31394,\n            'f': \"44057.31394\",\n        },\n\"Very High\"],\n [{\n            'v': 14,\n            'f': \"14\",\n        },\n{\n            'v': 15,\n            'f': \"15\",\n        },\n\"Canada\",\n{\n            'v': 0.936,\n            'f': \"0.936\",\n        },\n{\n            'v': 82.6565,\n            'f': \"82.6565\",\n        },\n{\n            'v': 16.39625931,\n            'f': \"16.39625931\",\n        },\n{\n            'v': 13.83442722,\n            'f': \"13.83442722\",\n        },\n{\n            'v': 46807.98619,\n            'f': \"46807.98619\",\n        },\n\"Very High\"],\n [{\n            'v': 15,\n            'f': \"15\",\n        },\n{\n            'v': 16,\n            'f': \"16\",\n        },\n\"Liechtenstein\",\n{\n            'v': 0.935,\n            'f': \"0.935\",\n        },\n{\n            'v': 83.2575,\n            'f': \"83.2575\",\n        },\n{\n            'v': 15.18157005,\n            'f': \"15.18157005\",\n        },\n{\n            'v': 12.53854,\n            'f': \"12.53854\",\n        },\n{\n            'v': 146829.7006,\n            'f': \"146829.7006\",\n        },\n\"Very High\"],\n [{\n            'v': 16,\n            'f': \"16\",\n        },\n{\n            'v': 17,\n            'f': \"17\",\n        },\n\"Luxembourg\",\n{\n            'v': 0.93,\n            'f': \"0.93\",\n        },\n{\n            'v': 82.6287,\n            'f': \"82.6287\",\n        },\n{\n            'v': 14.39813995,\n            'f': \"14.39813995\",\n        },\n{\n            'v': 13.01519217,\n            'f': \"13.01519217\",\n        },\n{\n            'v': 84649.47467,\n            'f': \"84649.47467\",\n        },\n\"Very High\"],\n [{\n            'v': 17,\n            'f': \"17\",\n        },\n{\n            'v': 18,\n            'f': \"18\",\n        },\n\"United Kingdom\",\n{\n            'v': 0.929,\n            'f': \"0.929\",\n        },\n{\n            'v': 80.7422,\n            'f': \"80.7422\",\n        },\n{\n            'v': 17.30971909,\n            'f': \"17.30971909\",\n        },\n{\n            'v': 13.4061203,\n            'f': \"13.4061203\",\n        },\n{\n            'v': 45224.76564,\n            'f': \"45224.76564\",\n        },\n\"Very High\"],\n [{\n            'v': 18,\n            'f': \"18\",\n        },\n{\n            'v': 19,\n            'f': \"19\",\n        },\n\"Japan\",\n{\n            'v': 0.925,\n            'f': \"0.925\",\n        },\n{\n            'v': 84.7839,\n            'f': \"84.7839\",\n        },\n{\n            'v': 15.22162588,\n            'f': \"15.22162588\",\n        },\n{\n            'v': 13.36610034,\n            'f': \"13.36610034\",\n        },\n{\n            'v': 42274.29134,\n            'f': \"42274.29134\",\n        },\n\"Very High\"],\n [{\n            'v': 19,\n            'f': \"19\",\n        },\n{\n            'v': 19,\n            'f': \"19\",\n        },\n\"Korea (Republic of)\",\n{\n            'v': 0.925,\n            'f': \"0.925\",\n        },\n{\n            'v': 83.6978,\n            'f': \"83.6978\",\n        },\n{\n            'v': 16.52173996,\n            'f': \"16.52173996\",\n        },\n{\n            'v': 12.51293027,\n            'f': \"12.51293027\",\n        },\n{\n            'v': 44500.93187,\n            'f': \"44500.93187\",\n        },\n\"Very High\"],\n [{\n            'v': 20,\n            'f': \"20\",\n        },\n{\n            'v': 21,\n            'f': \"21\",\n        },\n\"United States\",\n{\n            'v': 0.921,\n            'f': \"0.921\",\n        },\n{\n            'v': 77.1982,\n            'f': \"77.1982\",\n        },\n{\n            'v': 16.28097916,\n            'f': \"16.28097916\",\n        },\n{\n            'v': 13.68342972,\n            'f': \"13.68342972\",\n        },\n{\n            'v': 64765.21509,\n            'f': \"64765.21509\",\n        },\n\"Very High\"],\n [{\n            'v': 21,\n            'f': \"21\",\n        },\n{\n            'v': 22,\n            'f': \"22\",\n        },\n\"Israel\",\n{\n            'v': 0.919,\n            'f': \"0.919\",\n        },\n{\n            'v': 82.255,\n            'f': \"82.255\",\n        },\n{\n            'v': 16.05088997,\n            'f': \"16.05088997\",\n        },\n{\n            'v': 13.3448664,\n            'f': \"13.3448664\",\n        },\n{\n            'v': 41523.74319,\n            'f': \"41523.74319\",\n        },\n\"Very High\"],\n [{\n            'v': 22,\n            'f': \"22\",\n        },\n{\n            'v': 23,\n            'f': \"23\",\n        },\n\"Malta\",\n{\n            'v': 0.918,\n            'f': \"0.918\",\n        },\n{\n            'v': 83.7769,\n            'f': \"83.7769\",\n        },\n{\n            'v': 16.83856964,\n            'f': \"16.83856964\",\n        },\n{\n            'v': 12.21026039,\n            'f': \"12.21026039\",\n        },\n{\n            'v': 38884.45623,\n            'f': \"38884.45623\",\n        },\n\"Very High\"],\n [{\n            'v': 23,\n            'f': \"23\",\n        },\n{\n            'v': 23,\n            'f': \"23\",\n        },\n\"Slovenia\",\n{\n            'v': 0.918,\n            'f': \"0.918\",\n        },\n{\n            'v': 80.6904,\n            'f': \"80.6904\",\n        },\n{\n            'v': 17.65492058,\n            'f': \"17.65492058\",\n        },\n{\n            'v': 12.80368042,\n            'f': \"12.80368042\",\n        },\n{\n            'v': 39746.01987,\n            'f': \"39746.01987\",\n        },\n\"Very High\"],\n [{\n            'v': 24,\n            'f': \"24\",\n        },\n{\n            'v': 25,\n            'f': \"25\",\n        },\n\"Austria\",\n{\n            'v': 0.916,\n            'f': \"0.916\",\n        },\n{\n            'v': 81.5797,\n            'f': \"81.5797\",\n        },\n{\n            'v': 16.00795937,\n            'f': \"16.00795937\",\n        },\n{\n            'v': 12.25669003,\n            'f': \"12.25669003\",\n        },\n{\n            'v': 53618.67138,\n            'f': \"53618.67138\",\n        },\n\"Very High\"],\n [{\n            'v': 25,\n            'f': \"25\",\n        },\n{\n            'v': 26,\n            'f': \"26\",\n        },\n\"United Arab Emirates\",\n{\n            'v': 0.911,\n            'f': \"0.911\",\n        },\n{\n            'v': 78.7104,\n            'f': \"78.7104\",\n        },\n{\n            'v': 15.71769047,\n            'f': \"15.71769047\",\n        },\n{\n            'v': 12.69402981,\n            'f': \"12.69402981\",\n        },\n{\n            'v': 62573.59181,\n            'f': \"62573.59181\",\n        },\n\"Very High\"],\n [{\n            'v': 26,\n            'f': \"26\",\n        },\n{\n            'v': 27,\n            'f': \"27\",\n        },\n\"Spain\",\n{\n            'v': 0.905,\n            'f': \"0.905\",\n        },\n{\n            'v': 83.01,\n            'f': \"83.01\",\n        },\n{\n            'v': 17.91690063,\n            'f': \"17.91690063\",\n        },\n{\n            'v': 10.60540009,\n            'f': \"10.60540009\",\n        },\n{\n            'v': 38353.60164,\n            'f': \"38353.60164\",\n        },\n\"Very High\"],\n [{\n            'v': 27,\n            'f': \"27\",\n        },\n{\n            'v': 28,\n            'f': \"28\",\n        },\n\"France\",\n{\n            'v': 0.903,\n            'f': \"0.903\",\n        },\n{\n            'v': 82.4988,\n            'f': \"82.4988\",\n        },\n{\n            'v': 15.81206989,\n            'f': \"15.81206989\",\n        },\n{\n            'v': 11.61005974,\n            'f': \"11.61005974\",\n        },\n{\n            'v': 45937.05273,\n            'f': \"45937.05273\",\n        },\n\"Very High\"],\n [{\n            'v': 28,\n            'f': \"28\",\n        },\n{\n            'v': 29,\n            'f': \"29\",\n        },\n\"Cyprus\",\n{\n            'v': 0.896,\n            'f': \"0.896\",\n        },\n{\n            'v': 81.2033,\n            'f': \"81.2033\",\n        },\n{\n            'v': 15.64826965,\n            'f': \"15.64826965\",\n        },\n{\n            'v': 12.44017029,\n            'f': \"12.44017029\",\n        },\n{\n            'v': 38188.42152,\n            'f': \"38188.42152\",\n        },\n\"Very High\"],\n [{\n            'v': 29,\n            'f': \"29\",\n        },\n{\n            'v': 30,\n            'f': \"30\",\n        },\n\"Italy\",\n{\n            'v': 0.895,\n            'f': \"0.895\",\n        },\n{\n            'v': 82.8502,\n            'f': \"82.8502\",\n        },\n{\n            'v': 16.22678947,\n            'f': \"16.22678947\",\n        },\n{\n            'v': 10.7401104,\n            'f': \"10.7401104\",\n        },\n{\n            'v': 42839.51441,\n            'f': \"42839.51441\",\n        },\n\"Very High\"],\n [{\n            'v': 30,\n            'f': \"30\",\n        },\n{\n            'v': 31,\n            'f': \"31\",\n        },\n\"Estonia\",\n{\n            'v': 0.89,\n            'f': \"0.89\",\n        },\n{\n            'v': 77.1436,\n            'f': \"77.1436\",\n        },\n{\n            'v': 15.92895985,\n            'f': \"15.92895985\",\n        },\n{\n            'v': 13.54843044,\n            'f': \"13.54843044\",\n        },\n{\n            'v': 38048.26372,\n            'f': \"38048.26372\",\n        },\n\"Very High\"],\n [{\n            'v': 31,\n            'f': \"31\",\n        },\n{\n            'v': 32,\n            'f': \"32\",\n        },\n\"Czechia\",\n{\n            'v': 0.889,\n            'f': \"0.889\",\n        },\n{\n            'v': 77.7283,\n            'f': \"77.7283\",\n        },\n{\n            'v': 16.21968079,\n            'f': \"16.21968079\",\n        },\n{\n            'v': 12.86931038,\n            'f': \"12.86931038\",\n        },\n{\n            'v': 38745.21386,\n            'f': \"38745.21386\",\n        },\n\"Very High\"],\n [{\n            'v': 32,\n            'f': \"32\",\n        },\n{\n            'v': 33,\n            'f': \"33\",\n        },\n\"Greece\",\n{\n            'v': 0.887,\n            'f': \"0.887\",\n        },\n{\n            'v': 80.1106,\n            'f': \"80.1106\",\n        },\n{\n            'v': 20.02878952,\n            'f': \"20.02878952\",\n        },\n{\n            'v': 11.40853024,\n            'f': \"11.40853024\",\n        },\n{\n            'v': 29002.48545,\n            'f': \"29002.48545\",\n        },\n\"Very High\"],\n [{\n            'v': 33,\n            'f': \"33\",\n        },\n{\n            'v': 34,\n            'f': \"34\",\n        },\n\"Poland\",\n{\n            'v': 0.876,\n            'f': \"0.876\",\n        },\n{\n            'v': 76.4572,\n            'f': \"76.4572\",\n        },\n{\n            'v': 16.0271492,\n            'f': \"16.0271492\",\n        },\n{\n            'v': 13.1647501,\n            'f': \"13.1647501\",\n        },\n{\n            'v': 33033.96081,\n            'f': \"33033.96081\",\n        },\n\"Very High\"],\n [{\n            'v': 34,\n            'f': \"34\",\n        },\n{\n            'v': 35,\n            'f': \"35\",\n        },\n\"Bahrain\",\n{\n            'v': 0.875,\n            'f': \"0.875\",\n        },\n{\n            'v': 78.7605,\n            'f': \"78.7605\",\n        },\n{\n            'v': 16.29755974,\n            'f': \"16.29755974\",\n        },\n{\n            'v': 11.04658985,\n            'f': \"11.04658985\",\n        },\n{\n            'v': 39497.24788,\n            'f': \"39497.24788\",\n        },\n\"Very High\"],\n [{\n            'v': 35,\n            'f': \"35\",\n        },\n{\n            'v': 35,\n            'f': \"35\",\n        },\n\"Lithuania\",\n{\n            'v': 0.875,\n            'f': \"0.875\",\n        },\n{\n            'v': 73.7201,\n            'f': \"73.7201\",\n        },\n{\n            'v': 16.28506088,\n            'f': \"16.28506088\",\n        },\n{\n            'v': 13.49810028,\n            'f': \"13.49810028\",\n        },\n{\n            'v': 37931.30359,\n            'f': \"37931.30359\",\n        },\n\"Very High\"],\n [{\n            'v': 36,\n            'f': \"36\",\n        },\n{\n            'v': 35,\n            'f': \"35\",\n        },\n\"Saudi Arabia\",\n{\n            'v': 0.875,\n            'f': \"0.875\",\n        },\n{\n            'v': 76.936,\n            'f': \"76.936\",\n        },\n{\n            'v': 16.13549042,\n            'f': \"16.13549042\",\n        },\n{\n            'v': 11.31052971,\n            'f': \"11.31052971\",\n        },\n{\n            'v': 46111.55135,\n            'f': \"46111.55135\",\n        },\n\"Very High\"],\n [{\n            'v': 37,\n            'f': \"37\",\n        },\n{\n            'v': 38,\n            'f': \"38\",\n        },\n\"Portugal\",\n{\n            'v': 0.866,\n            'f': \"0.866\",\n        },\n{\n            'v': 81.0443,\n            'f': \"81.0443\",\n        },\n{\n            'v': 16.87122917,\n            'f': \"16.87122917\",\n        },\n{\n            'v': 9.575940132,\n            'f': \"9.575940132\",\n        },\n{\n            'v': 33154.53343,\n            'f': \"33154.53343\",\n        },\n\"Very High\"],\n [{\n            'v': 38,\n            'f': \"38\",\n        },\n{\n            'v': 39,\n            'f': \"39\",\n        },\n\"Latvia\",\n{\n            'v': 0.863,\n            'f': \"0.863\",\n        },\n{\n            'v': 73.5786,\n            'f': \"73.5786\",\n        },\n{\n            'v': 16.20252991,\n            'f': \"16.20252991\",\n        },\n{\n            'v': 13.25271988,\n            'f': \"13.25271988\",\n        },\n{\n            'v': 32803.23423,\n            'f': \"32803.23423\",\n        },\n\"Very High\"],\n [{\n            'v': 39,\n            'f': \"39\",\n        },\n{\n            'v': 40,\n            'f': \"40\",\n        },\n\"Andorra\",\n{\n            'v': 0.858,\n            'f': \"0.858\",\n        },\n{\n            'v': 80.3684,\n            'f': \"80.3684\",\n        },\n{\n            'v': 13.30023874,\n            'f': \"13.30023874\",\n        },\n{\n            'v': 10.55511952,\n            'f': \"10.55511952\",\n        },\n{\n            'v': 51166.62661,\n            'f': \"51166.62661\",\n        },\n\"Very High\"],\n [{\n            'v': 40,\n            'f': \"40\",\n        },\n{\n            'v': 40,\n            'f': \"40\",\n        },\n\"Croatia\",\n{\n            'v': 0.858,\n            'f': \"0.858\",\n        },\n{\n            'v': 77.5804,\n            'f': \"77.5804\",\n        },\n{\n            'v': 15.11209965,\n            'f': \"15.11209965\",\n        },\n{\n            'v': 12.19108434,\n            'f': \"12.19108434\",\n        },\n{\n            'v': 30132.28814,\n            'f': \"30132.28814\",\n        },\n\"Very High\"],\n [{\n            'v': 41,\n            'f': \"41\",\n        },\n{\n            'v': 42,\n            'f': \"42\",\n        },\n\"Chile\",\n{\n            'v': 0.855,\n            'f': \"0.855\",\n        },\n{\n            'v': 78.9435,\n            'f': \"78.9435\",\n        },\n{\n            'v': 16.73130035,\n            'f': \"16.73130035\",\n        },\n{\n            'v': 10.9349663,\n            'f': \"10.9349663\",\n        },\n{\n            'v': 24563.24486,\n            'f': \"24563.24486\",\n        },\n\"Very High\"],\n [{\n            'v': 42,\n            'f': \"42\",\n        },\n{\n            'v': 42,\n            'f': \"42\",\n        },\n\"Qatar\",\n{\n            'v': 0.855,\n            'f': \"0.855\",\n        },\n{\n            'v': 79.2716,\n            'f': \"79.2716\",\n        },\n{\n            'v': 12.63722038,\n            'f': \"12.63722038\",\n        },\n{\n            'v': 9.99601145,\n            'f': \"9.99601145\",\n        },\n{\n            'v': 87134.13469,\n            'f': \"87134.13469\",\n        },\n\"Very High\"],\n [{\n            'v': 43,\n            'f': \"43\",\n        },\n{\n            'v': 44,\n            'f': \"44\",\n        },\n\"San Marino\",\n{\n            'v': 0.853,\n            'f': \"0.853\",\n        },\n{\n            'v': 80.8786,\n            'f': \"80.8786\",\n        },\n{\n            'v': 12.26613998,\n            'f': \"12.26613998\",\n        },\n{\n            'v': 10.80146027,\n            'f': \"10.80146027\",\n        },\n{\n            'v': 52653.82534,\n            'f': \"52653.82534\",\n        },\n\"Very High\"],\n [{\n            'v': 44,\n            'f': \"44\",\n        },\n{\n            'v': 45,\n            'f': \"45\",\n        },\n\"Slovakia\",\n{\n            'v': 0.848,\n            'f': \"0.848\",\n        },\n{\n            'v': 74.9101,\n            'f': \"74.9101\",\n        },\n{\n            'v': 14.51303959,\n            'f': \"14.51303959\",\n        },\n{\n            'v': 12.91141987,\n            'f': \"12.91141987\",\n        },\n{\n            'v': 30690.48552,\n            'f': \"30690.48552\",\n        },\n\"Very High\"],\n [{\n            'v': 45,\n            'f': \"45\",\n        },\n{\n            'v': 46,\n            'f': \"46\",\n        },\n\"Hungary\",\n{\n            'v': 0.846,\n            'f': \"0.846\",\n        },\n{\n            'v': 74.5301,\n            'f': \"74.5301\",\n        },\n{\n            'v': 15.0336281,\n            'f': \"15.0336281\",\n        },\n{\n            'v': 12.24958992,\n            'f': \"12.24958992\",\n        },\n{\n            'v': 32789.01063,\n            'f': \"32789.01063\",\n        },\n\"Very High\"],\n [{\n            'v': 46,\n            'f': \"46\",\n        },\n{\n            'v': 47,\n            'f': \"47\",\n        },\n\"Argentina\",\n{\n            'v': 0.842,\n            'f': \"0.842\",\n        },\n{\n            'v': 75.3899,\n            'f': \"75.3899\",\n        },\n{\n            'v': 17.8748703,\n            'f': \"17.8748703\",\n        },\n{\n            'v': 11.14726927,\n            'f': \"11.14726927\",\n        },\n{\n            'v': 20925.26814,\n            'f': \"20925.26814\",\n        },\n\"Very High\"],\n [{\n            'v': 47,\n            'f': \"47\",\n        },\n{\n            'v': 48,\n            'f': \"48\",\n        },\n\"T\\u00fcrkiye\",\n{\n            'v': 0.838,\n            'f': \"0.838\",\n        },\n{\n            'v': 76.0324,\n            'f': \"76.0324\",\n        },\n{\n            'v': 18.3382206,\n            'f': \"18.3382206\",\n        },\n{\n            'v': 8.63313961,\n            'f': \"8.63313961\",\n        },\n{\n            'v': 31032.80106,\n            'f': \"31032.80106\",\n        },\n\"Very High\"],\n [{\n            'v': 48,\n            'f': \"48\",\n        },\n{\n            'v': 49,\n            'f': \"49\",\n        },\n\"Montenegro\",\n{\n            'v': 0.832,\n            'f': \"0.832\",\n        },\n{\n            'v': 76.3426,\n            'f': \"76.3426\",\n        },\n{\n            'v': 15.08160973,\n            'f': \"15.08160973\",\n        },\n{\n            'v': 12.17648306,\n            'f': \"12.17648306\",\n        },\n{\n            'v': 20838.80129,\n            'f': \"20838.80129\",\n        },\n\"Very High\"],\n [{\n            'v': 49,\n            'f': \"49\",\n        },\n{\n            'v': 50,\n            'f': \"50\",\n        },\n\"Kuwait\",\n{\n            'v': 0.831,\n            'f': \"0.831\",\n        },\n{\n            'v': 78.6729,\n            'f': \"78.6729\",\n        },\n{\n            'v': 15.32443332,\n            'f': \"15.32443332\",\n        },\n{\n            'v': 7.328022618,\n            'f': \"7.328022618\",\n        },\n{\n            'v': 52919.76137,\n            'f': \"52919.76137\",\n        },\n\"Very High\"],\n [{\n            'v': 50,\n            'f': \"50\",\n        },\n{\n            'v': 51,\n            'f': \"51\",\n        },\n\"Brunei Darussalam\",\n{\n            'v': 0.829,\n            'f': \"0.829\",\n        },\n{\n            'v': 74.6424,\n            'f': \"74.6424\",\n        },\n{\n            'v': 13.95178032,\n            'f': \"13.95178032\",\n        },\n{\n            'v': 9.18,\n            'f': \"9.18\",\n        },\n{\n            'v': 64489.53954,\n            'f': \"64489.53954\",\n        },\n\"Very High\"],\n [{\n            'v': 51,\n            'f': \"51\",\n        },\n{\n            'v': 52,\n            'f': \"52\",\n        },\n\"Russian Federation\",\n{\n            'v': 0.822,\n            'f': \"0.822\",\n        },\n{\n            'v': 69.419,\n            'f': \"69.419\",\n        },\n{\n            'v': 15.76636982,\n            'f': \"15.76636982\",\n        },\n{\n            'v': 12.77428805,\n            'f': \"12.77428805\",\n        },\n{\n            'v': 27166.30891,\n            'f': \"27166.30891\",\n        },\n\"Very High\"],\n [{\n            'v': 52,\n            'f': \"52\",\n        },\n{\n            'v': 53,\n            'f': \"53\",\n        },\n\"Romania\",\n{\n            'v': 0.821,\n            'f': \"0.821\",\n        },\n{\n            'v': 74.1847,\n            'f': \"74.1847\",\n        },\n{\n            'v': 14.22990036,\n            'f': \"14.22990036\",\n        },\n{\n            'v': 11.27511978,\n            'f': \"11.27511978\",\n        },\n{\n            'v': 30027.29131,\n            'f': \"30027.29131\",\n        },\n\"Very High\"],\n [{\n            'v': 53,\n            'f': \"53\",\n        },\n{\n            'v': 54,\n            'f': \"54\",\n        },\n\"Oman\",\n{\n            'v': 0.816,\n            'f': \"0.816\",\n        },\n{\n            'v': 72.5406,\n            'f': \"72.5406\",\n        },\n{\n            'v': 14.57349014,\n            'f': \"14.57349014\",\n        },\n{\n            'v': 11.65404034,\n            'f': \"11.65404034\",\n        },\n{\n            'v': 27054.32505,\n            'f': \"27054.32505\",\n        },\n\"Very High\"],\n [{\n            'v': 54,\n            'f': \"54\",\n        },\n{\n            'v': 55,\n            'f': \"55\",\n        },\n\"Bahamas\",\n{\n            'v': 0.812,\n            'f': \"0.812\",\n        },\n{\n            'v': 71.5983,\n            'f': \"71.5983\",\n        },\n{\n            'v': 12.89945,\n            'f': \"12.89945\",\n        },\n{\n            'v': 12.64192386,\n            'f': \"12.64192386\",\n        },\n{\n            'v': 30486.18429,\n            'f': \"30486.18429\",\n        },\n\"Very High\"],\n [{\n            'v': 55,\n            'f': \"55\",\n        },\n{\n            'v': 56,\n            'f': \"56\",\n        },\n\"Kazakhstan\",\n{\n            'v': 0.811,\n            'f': \"0.811\",\n        },\n{\n            'v': 69.3622,\n            'f': \"69.3622\",\n        },\n{\n            'v': 15.76500034,\n            'f': \"15.76500034\",\n        },\n{\n            'v': 12.34756189,\n            'f': \"12.34756189\",\n        },\n{\n            'v': 23942.81837,\n            'f': \"23942.81837\",\n        },\n\"Very High\"],\n [{\n            'v': 56,\n            'f': \"56\",\n        },\n{\n            'v': 57,\n            'f': \"57\",\n        },\n\"Trinidad and Tobago\",\n{\n            'v': 0.81,\n            'f': \"0.81\",\n        },\n{\n            'v': 72.9709,\n            'f': \"72.9709\",\n        },\n{\n            'v': 14.53545292,\n            'f': \"14.53545292\",\n        },\n{\n            'v': 11.61062419,\n            'f': \"11.61062419\",\n        },\n{\n            'v': 23392.02084,\n            'f': \"23392.02084\",\n        },\n\"Very High\"],\n [{\n            'v': 57,\n            'f': \"57\",\n        },\n{\n            'v': 58,\n            'f': \"58\",\n        },\n\"Costa Rica\",\n{\n            'v': 0.809,\n            'f': \"0.809\",\n        },\n{\n            'v': 77.0232,\n            'f': \"77.0232\",\n        },\n{\n            'v': 16.54577065,\n            'f': \"16.54577065\",\n        },\n{\n            'v': 8.804059982,\n            'f': \"8.804059982\",\n        },\n{\n            'v': 19974.27358,\n            'f': \"19974.27358\",\n        },\n\"Very High\"],\n [{\n            'v': 58,\n            'f': \"58\",\n        },\n{\n            'v': 58,\n            'f': \"58\",\n        },\n\"Uruguay\",\n{\n            'v': 0.809,\n            'f': \"0.809\",\n        },\n{\n            'v': 75.4356,\n            'f': \"75.4356\",\n        },\n{\n            'v': 16.83259964,\n            'f': \"16.83259964\",\n        },\n{\n            'v': 8.982549667,\n            'f': \"8.982549667\",\n        },\n{\n            'v': 21268.88122,\n            'f': \"21268.88122\",\n        },\n\"Very High\"],\n [{\n            'v': 59,\n            'f': \"59\",\n        },\n{\n            'v': 60,\n            'f': \"60\",\n        },\n\"Belarus\",\n{\n            'v': 0.808,\n            'f': \"0.808\",\n        },\n{\n            'v': 72.438,\n            'f': \"72.438\",\n        },\n{\n            'v': 15.16996956,\n            'f': \"15.16996956\",\n        },\n{\n            'v': 12.14358044,\n            'f': \"12.14358044\",\n        },\n{\n            'v': 18848.96704,\n            'f': \"18848.96704\",\n        },\n\"Very High\"],\n [{\n            'v': 60,\n            'f': \"60\",\n        },\n{\n            'v': 61,\n            'f': \"61\",\n        },\n\"Panama\",\n{\n            'v': 0.805,\n            'f': \"0.805\",\n        },\n{\n            'v': 76.2233,\n            'f': \"76.2233\",\n        },\n{\n            'v': 13.05787868,\n            'f': \"13.05787868\",\n        },\n{\n            'v': 10.54059029,\n            'f': \"10.54059029\",\n        },\n{\n            'v': 26956.83707,\n            'f': \"26956.83707\",\n        },\n\"Very High\"],\n [{\n            'v': 61,\n            'f': \"61\",\n        },\n{\n            'v': 62,\n            'f': \"62\",\n        },\n\"Malaysia\",\n{\n            'v': 0.803,\n            'f': \"0.803\",\n        },\n{\n            'v': 74.8839,\n            'f': \"74.8839\",\n        },\n{\n            'v': 13.34304047,\n            'f': \"13.34304047\",\n        },\n{\n            'v': 10.64505959,\n            'f': \"10.64505959\",\n        },\n{\n            'v': 26657.94355,\n            'f': \"26657.94355\",\n        },\n\"Very High\"],\n [{\n            'v': 62,\n            'f': \"62\",\n        },\n{\n            'v': 63,\n            'f': \"63\",\n        },\n\"Georgia\",\n{\n            'v': 0.802,\n            'f': \"0.802\",\n        },\n{\n            'v': 71.694,\n            'f': \"71.694\",\n        },\n{\n            'v': 15.56851959,\n            'f': \"15.56851959\",\n        },\n{\n            'v': 12.82221985,\n            'f': \"12.82221985\",\n        },\n{\n            'v': 14664.16825,\n            'f': \"14664.16825\",\n        },\n\"Very High\"],\n [{\n            'v': 63,\n            'f': \"63\",\n        },\n{\n            'v': 63,\n            'f': \"63\",\n        },\n\"Mauritius\",\n{\n            'v': 0.802,\n            'f': \"0.802\",\n        },\n{\n            'v': 73.5552,\n            'f': \"73.5552\",\n        },\n{\n            'v': 15.17352977,\n            'f': \"15.17352977\",\n        },\n{\n            'v': 10.42791048,\n            'f': \"10.42791048\",\n        },\n{\n            'v': 22025.34631,\n            'f': \"22025.34631\",\n        },\n\"Very High\"],\n [{\n            'v': 64,\n            'f': \"64\",\n        },\n{\n            'v': 63,\n            'f': \"63\",\n        },\n\"Serbia\",\n{\n            'v': 0.802,\n            'f': \"0.802\",\n        },\n{\n            'v': 74.1923,\n            'f': \"74.1923\",\n        },\n{\n            'v': 14.40009022,\n            'f': \"14.40009022\",\n        },\n{\n            'v': 11.36987019,\n            'f': \"11.36987019\",\n        },\n{\n            'v': 19123.02747,\n            'f': \"19123.02747\",\n        },\n\"Very High\"],\n [{\n            'v': 65,\n            'f': \"65\",\n        },\n{\n            'v': 66,\n            'f': \"66\",\n        },\n\"Thailand\",\n{\n            'v': 0.8,\n            'f': \"0.8\",\n        },\n{\n            'v': 78.7154,\n            'f': \"78.7154\",\n        },\n{\n            'v': 15.88221913,\n            'f': \"15.88221913\",\n        },\n{\n            'v': 8.697119713,\n            'f': \"8.697119713\",\n        },\n{\n            'v': 17030.15352,\n            'f': \"17030.15352\",\n        },\n\"Very High\"],\n [{\n            'v': 66,\n            'f': \"66\",\n        },\n{\n            'v': 67,\n            'f': \"67\",\n        },\n\"Albania\",\n{\n            'v': 0.796,\n            'f': \"0.796\",\n        },\n{\n            'v': 76.4626,\n            'f': \"76.4626\",\n        },\n{\n            'v': 14.44799995,\n            'f': \"14.44799995\",\n        },\n{\n            'v': 11.28645502,\n            'f': \"11.28645502\",\n        },\n{\n            'v': 14131.11039,\n            'f': \"14131.11039\",\n        },\n\"High\"],\n [{\n            'v': 67,\n            'f': \"67\",\n        },\n{\n            'v': 68,\n            'f': \"68\",\n        },\n\"Bulgaria\",\n{\n            'v': 0.795,\n            'f': \"0.795\",\n        },\n{\n            'v': 71.798,\n            'f': \"71.798\",\n        },\n{\n            'v': 13.89729023,\n            'f': \"13.89729023\",\n        },\n{\n            'v': 11.41318035,\n            'f': \"11.41318035\",\n        },\n{\n            'v': 23078.95595,\n            'f': \"23078.95595\",\n        },\n\"High\"],\n [{\n            'v': 68,\n            'f': \"68\",\n        },\n{\n            'v': 68,\n            'f': \"68\",\n        },\n\"Grenada\",\n{\n            'v': 0.795,\n            'f': \"0.795\",\n        },\n{\n            'v': 74.9362,\n            'f': \"74.9362\",\n        },\n{\n            'v': 18.66202035,\n            'f': \"18.66202035\",\n        },\n{\n            'v': 9.032104,\n            'f': \"9.032104\",\n        },\n{\n            'v': 13483.5774,\n            'f': \"13483.5774\",\n        },\n\"High\"],\n [{\n            'v': 69,\n            'f': \"69\",\n        },\n{\n            'v': 70,\n            'f': \"70\",\n        },\n\"Barbados\",\n{\n            'v': 0.79,\n            'f': \"0.79\",\n        },\n{\n            'v': 77.5714,\n            'f': \"77.5714\",\n        },\n{\n            'v': 15.71338458,\n            'f': \"15.71338458\",\n        },\n{\n            'v': 9.852700596,\n            'f': \"9.852700596\",\n        },\n{\n            'v': 12306.341,\n            'f': \"12306.341\",\n        },\n\"High\"],\n [{\n            'v': 70,\n            'f': \"70\",\n        },\n{\n            'v': 71,\n            'f': \"71\",\n        },\n\"Antigua and Barbuda\",\n{\n            'v': 0.788,\n            'f': \"0.788\",\n        },\n{\n            'v': 78.4968,\n            'f': \"78.4968\",\n        },\n{\n            'v': 14.18462641,\n            'f': \"14.18462641\",\n        },\n{\n            'v': 9.293740746,\n            'f': \"9.293740746\",\n        },\n{\n            'v': 16792.36595,\n            'f': \"16792.36595\",\n        },\n\"High\"],\n [{\n            'v': 71,\n            'f': \"71\",\n        },\n{\n            'v': 72,\n            'f': \"72\",\n        },\n\"Seychelles\",\n{\n            'v': 0.785,\n            'f': \"0.785\",\n        },\n{\n            'v': 71.2945,\n            'f': \"71.2945\",\n        },\n{\n            'v': 13.94161034,\n            'f': \"13.94161034\",\n        },\n{\n            'v': 10.28312,\n            'f': \"10.28312\",\n        },\n{\n            'v': 25830.61775,\n            'f': \"25830.61775\",\n        },\n\"High\"],\n [{\n            'v': 72,\n            'f': \"72\",\n        },\n{\n            'v': 73,\n            'f': \"73\",\n        },\n\"Sri Lanka\",\n{\n            'v': 0.782,\n            'f': \"0.782\",\n        },\n{\n            'v': 76.3991,\n            'f': \"76.3991\",\n        },\n{\n            'v': 14.13990486,\n            'f': \"14.13990486\",\n        },\n{\n            'v': 10.82730007,\n            'f': \"10.82730007\",\n        },\n{\n            'v': 12578.22055,\n            'f': \"12578.22055\",\n        },\n\"High\"],\n [{\n            'v': 73,\n            'f': \"73\",\n        },\n{\n            'v': 74,\n            'f': \"74\",\n        },\n\"Bosnia and Herzegovina\",\n{\n            'v': 0.78,\n            'f': \"0.78\",\n        },\n{\n            'v': 75.3003,\n            'f': \"75.3003\",\n        },\n{\n            'v': 13.8,\n            'f': \"13.8\",\n        },\n{\n            'v': 10.53631973,\n            'f': \"10.53631973\",\n        },\n{\n            'v': 15241.91465,\n            'f': \"15241.91465\",\n        },\n\"High\"],\n [{\n            'v': 74,\n            'f': \"74\",\n        },\n{\n            'v': 75,\n            'f': \"75\",\n        },\n\"Saint Kitts and Nevis\",\n{\n            'v': 0.777,\n            'f': \"0.777\",\n        },\n{\n            'v': 71.6822,\n            'f': \"71.6822\",\n        },\n{\n            'v': 15.42769157,\n            'f': \"15.42769157\",\n        },\n{\n            'v': 8.662745,\n            'f': \"8.662745\",\n        },\n{\n            'v': 23358.33212,\n            'f': \"23358.33212\",\n        },\n\"High\"],\n [{\n            'v': 75,\n            'f': \"75\",\n        },\n{\n            'v': 76,\n            'f': \"76\",\n        },\n\"Iran (Islamic Republic of)\",\n{\n            'v': 0.774,\n            'f': \"0.774\",\n        },\n{\n            'v': 73.8749,\n            'f': \"73.8749\",\n        },\n{\n            'v': 14.61524963,\n            'f': \"14.61524963\",\n        },\n{\n            'v': 10.63645314,\n            'f': \"10.63645314\",\n        },\n{\n            'v': 13000.7117,\n            'f': \"13000.7117\",\n        },\n\"High\"],\n [{\n            'v': 76,\n            'f': \"76\",\n        },\n{\n            'v': 77,\n            'f': \"77\",\n        },\n\"Ukraine\",\n{\n            'v': 0.773,\n            'f': \"0.773\",\n        },\n{\n            'v': 71.624,\n            'f': \"71.624\",\n        },\n{\n            'v': 14.95656854,\n            'f': \"14.95656854\",\n        },\n{\n            'v': 11.13142043,\n            'f': \"11.13142043\",\n        },\n{\n            'v': 13255.50977,\n            'f': \"13255.50977\",\n        },\n\"High\"],\n [{\n            'v': 77,\n            'f': \"77\",\n        },\n{\n            'v': 78,\n            'f': \"78\",\n        },\n\"North Macedonia\",\n{\n            'v': 0.77,\n            'f': \"0.77\",\n        },\n{\n            'v': 73.8415,\n            'f': \"73.8415\",\n        },\n{\n            'v': 13.62443234,\n            'f': \"13.62443234\",\n        },\n{\n            'v': 10.22815037,\n            'f': \"10.22815037\",\n        },\n{\n            'v': 15917.75283,\n            'f': \"15917.75283\",\n        },\n\"High\"],\n [{\n            'v': 78,\n            'f': \"78\",\n        },\n{\n            'v': 79,\n            'f': \"79\",\n        },\n\"China\",\n{\n            'v': 0.768,\n            'f': \"0.768\",\n        },\n{\n            'v': 78.2107,\n            'f': \"78.2107\",\n        },\n{\n            'v': 14.2361149,\n            'f': \"14.2361149\",\n        },\n{\n            'v': 7.600118446,\n            'f': \"7.600118446\",\n        },\n{\n            'v': 17504.39969,\n            'f': \"17504.39969\",\n        },\n\"High\"],\n [{\n            'v': 79,\n            'f': \"79\",\n        },\n{\n            'v': 80,\n            'f': \"80\",\n        },\n\"Dominican Republic\",\n{\n            'v': 0.767,\n            'f': \"0.767\",\n        },\n{\n            'v': 72.6146,\n            'f': \"72.6146\",\n        },\n{\n            'v': 14.46655802,\n            'f': \"14.46655802\",\n        },\n{\n            'v': 9.306864107,\n            'f': \"9.306864107\",\n        },\n{\n            'v': 17989.60037,\n            'f': \"17989.60037\",\n        },\n\"High\"],\n [{\n            'v': 80,\n            'f': \"80\",\n        },\n{\n            'v': 80,\n            'f': \"80\",\n        },\n\"Moldova (Republic of)\",\n{\n            'v': 0.767,\n            'f': \"0.767\",\n        },\n{\n            'v': 68.8459,\n            'f': \"68.8459\",\n        },\n{\n            'v': 14.43299961,\n            'f': \"14.43299961\",\n        },\n{\n            'v': 11.82159042,\n            'f': \"11.82159042\",\n        },\n{\n            'v': 14875.33189,\n            'f': \"14875.33189\",\n        },\n\"High\"],\n [{\n            'v': 81,\n            'f': \"81\",\n        },\n{\n            'v': 80,\n            'f': \"80\",\n        },\n\"Palau\",\n{\n            'v': 0.767,\n            'f': \"0.767\",\n        },\n{\n            'v': 66.0204,\n            'f': \"66.0204\",\n        },\n{\n            'v': 15.78432,\n            'f': \"15.78432\",\n        },\n{\n            'v': 12.49143,\n            'f': \"12.49143\",\n        },\n{\n            'v': 13818.67869,\n            'f': \"13818.67869\",\n        },\n\"High\"],\n [{\n            'v': 82,\n            'f': \"82\",\n        },\n{\n            'v': 83,\n            'f': \"83\",\n        },\n\"Cuba\",\n{\n            'v': 0.764,\n            'f': \"0.764\",\n        },\n{\n            'v': 73.6829,\n            'f': \"73.6829\",\n        },\n{\n            'v': 14.44305992,\n            'f': \"14.44305992\",\n        },\n{\n            'v': 12.49773438,\n            'f': \"12.49773438\",\n        },\n{\n            'v': 7878.847482,\n            'f': \"7878.847482\",\n        },\n\"High\"],\n [{\n            'v': 83,\n            'f': \"83\",\n        },\n{\n            'v': 84,\n            'f': \"84\",\n        },\n\"Peru\",\n{\n            'v': 0.762,\n            'f': \"0.762\",\n        },\n{\n            'v': 72.3769,\n            'f': \"72.3769\",\n        },\n{\n            'v': 15.38773354,\n            'f': \"15.38773354\",\n        },\n{\n            'v': 9.885518863,\n            'f': \"9.885518863\",\n        },\n{\n            'v': 12245.89366,\n            'f': \"12245.89366\",\n        },\n\"High\"],\n [{\n            'v': 84,\n            'f': \"84\",\n        },\n{\n            'v': 85,\n            'f': \"85\",\n        },\n\"Armenia\",\n{\n            'v': 0.759,\n            'f': \"0.759\",\n        },\n{\n            'v': 72.0431,\n            'f': \"72.0431\",\n        },\n{\n            'v': 13.11676025,\n            'f': \"13.11676025\",\n        },\n{\n            'v': 11.33030033,\n            'f': \"11.33030033\",\n        },\n{\n            'v': 13157.9939,\n            'f': \"13157.9939\",\n        },\n\"High\"],\n [{\n            'v': 85,\n            'f': \"85\",\n        },\n{\n            'v': 86,\n            'f': \"86\",\n        },\n\"Mexico\",\n{\n            'v': 0.758,\n            'f': \"0.758\",\n        },\n{\n            'v': 70.2127,\n            'f': \"70.2127\",\n        },\n{\n            'v': 14.86443996,\n            'f': \"14.86443996\",\n        },\n{\n            'v': 9.221050262,\n            'f': \"9.221050262\",\n        },\n{\n            'v': 17896.29498,\n            'f': \"17896.29498\",\n        },\n\"High\"],\n [{\n            'v': 86,\n            'f': \"86\",\n        },\n{\n            'v': 87,\n            'f': \"87\",\n        },\n\"Brazil\",\n{\n            'v': 0.754,\n            'f': \"0.754\",\n        },\n{\n            'v': 72.7504,\n            'f': \"72.7504\",\n        },\n{\n            'v': 15.59906006,\n            'f': \"15.59906006\",\n        },\n{\n            'v': 8.128813955,\n            'f': \"8.128813955\",\n        },\n{\n            'v': 14369.88848,\n            'f': \"14369.88848\",\n        },\n\"High\"],\n [{\n            'v': 87,\n            'f': \"87\",\n        },\n{\n            'v': 88,\n            'f': \"88\",\n        },\n\"Colombia\",\n{\n            'v': 0.752,\n            'f': \"0.752\",\n        },\n{\n            'v': 72.8296,\n            'f': \"72.8296\",\n        },\n{\n            'v': 14.44274998,\n            'f': \"14.44274998\",\n        },\n{\n            'v': 8.862859726,\n            'f': \"8.862859726\",\n        },\n{\n            'v': 14384.35666,\n            'f': \"14384.35666\",\n        },\n\"High\"],\n [{\n            'v': 88,\n            'f': \"88\",\n        },\n{\n            'v': 89,\n            'f': \"89\",\n        },\n\"Saint Vincent and the Grenadines\",\n{\n            'v': 0.751,\n            'f': \"0.751\",\n        },\n{\n            'v': 69.6291,\n            'f': \"69.6291\",\n        },\n{\n            'v': 14.67220567,\n            'f': \"14.67220567\",\n        },\n{\n            'v': 10.83343029,\n            'f': \"10.83343029\",\n        },\n{\n            'v': 11961.08792,\n            'f': \"11961.08792\",\n        },\n\"High\"],\n [{\n            'v': 89,\n            'f': \"89\",\n        },\n{\n            'v': 90,\n            'f': \"90\",\n        },\n\"Maldives\",\n{\n            'v': 0.747,\n            'f': \"0.747\",\n        },\n{\n            'v': 79.9182,\n            'f': \"79.9182\",\n        },\n{\n            'v': 12.63560963,\n            'f': \"12.63560963\",\n        },\n{\n            'v': 7.322,\n            'f': \"7.322\",\n        },\n{\n            'v': 15448.12788,\n            'f': \"15448.12788\",\n        },\n\"High\"],\n [{\n            'v': 90,\n            'f': \"90\",\n        },\n{\n            'v': 91,\n            'f': \"91\",\n        },\n\"Algeria\",\n{\n            'v': 0.745,\n            'f': \"0.745\",\n        },\n{\n            'v': 76.3767,\n            'f': \"76.3767\",\n        },\n{\n            'v': 14.62689602,\n            'f': \"14.62689602\",\n        },\n{\n            'v': 8.069284397,\n            'f': \"8.069284397\",\n        },\n{\n            'v': 10800.22546,\n            'f': \"10800.22546\",\n        },\n\"High\"],\n [{\n            'v': 91,\n            'f': \"91\",\n        },\n{\n            'v': 91,\n            'f': \"91\",\n        },\n\"Azerbaijan\",\n{\n            'v': 0.745,\n            'f': \"0.745\",\n        },\n{\n            'v': 69.3658,\n            'f': \"69.3658\",\n        },\n{\n            'v': 13.49689007,\n            'f': \"13.49689007\",\n        },\n{\n            'v': 10.5429697,\n            'f': \"10.5429697\",\n        },\n{\n            'v': 14256.74456,\n            'f': \"14256.74456\",\n        },\n\"High\"],\n [{\n            'v': 92,\n            'f': \"92\",\n        },\n{\n            'v': 91,\n            'f': \"91\",\n        },\n\"Tonga\",\n{\n            'v': 0.745,\n            'f': \"0.745\",\n        },\n{\n            'v': 70.9857,\n            'f': \"70.9857\",\n        },\n{\n            'v': 16.04857063,\n            'f': \"16.04857063\",\n        },\n{\n            'v': 11.392594,\n            'f': \"11.392594\",\n        },\n{\n            'v': 6822.03125,\n            'f': \"6822.03125\",\n        },\n\"High\"],\n [{\n            'v': 93,\n            'f': \"93\",\n        },\n{\n            'v': 91,\n            'f': \"91\",\n        },\n\"Turkmenistan\",\n{\n            'v': 0.745,\n            'f': \"0.745\",\n        },\n{\n            'v': 69.2644,\n            'f': \"69.2644\",\n        },\n{\n            'v': 13.21039963,\n            'f': \"13.21039963\",\n        },\n{\n            'v': 11.26139,\n            'f': \"11.26139\",\n        },\n{\n            'v': 13020.7155,\n            'f': \"13020.7155\",\n        },\n\"High\"],\n [{\n            'v': 94,\n            'f': \"94\",\n        },\n{\n            'v': 95,\n            'f': \"95\",\n        },\n\"Ecuador\",\n{\n            'v': 0.74,\n            'f': \"0.74\",\n        },\n{\n            'v': 73.67,\n            'f': \"73.67\",\n        },\n{\n            'v': 14.62423038,\n            'f': \"14.62423038\",\n        },\n{\n            'v': 8.817119598,\n            'f': \"8.817119598\",\n        },\n{\n            'v': 10311.63273,\n            'f': \"10311.63273\",\n        },\n\"High\"],\n [{\n            'v': 95,\n            'f': \"95\",\n        },\n{\n            'v': 96,\n            'f': \"96\",\n        },\n\"Mongolia\",\n{\n            'v': 0.739,\n            'f': \"0.739\",\n        },\n{\n            'v': 70.9754,\n            'f': \"70.9754\",\n        },\n{\n            'v': 14.98034954,\n            'f': \"14.98034954\",\n        },\n{\n            'v': 9.423700333,\n            'f': \"9.423700333\",\n        },\n{\n            'v': 10588.22532,\n            'f': \"10588.22532\",\n        },\n\"High\"],\n [{\n            'v': 96,\n            'f': \"96\",\n        },\n{\n            'v': 97,\n            'f': \"97\",\n        },\n\"Egypt\",\n{\n            'v': 0.731,\n            'f': \"0.731\",\n        },\n{\n            'v': 70.2207,\n            'f': \"70.2207\",\n        },\n{\n            'v': 13.78649972,\n            'f': \"13.78649972\",\n        },\n{\n            'v': 9.573026174,\n            'f': \"9.573026174\",\n        },\n{\n            'v': 11731.69056,\n            'f': \"11731.69056\",\n        },\n\"High\"],\n [{\n            'v': 97,\n            'f': \"97\",\n        },\n{\n            'v': 97,\n            'f': \"97\",\n        },\n\"Tunisia\",\n{\n            'v': 0.731,\n            'f': \"0.731\",\n        },\n{\n            'v': 73.7719,\n            'f': \"73.7719\",\n        },\n{\n            'v': 15.42538224,\n            'f': \"15.42538224\",\n        },\n{\n            'v': 7.431598614,\n            'f': \"7.431598614\",\n        },\n{\n            'v': 10257.54477,\n            'f': \"10257.54477\",\n        },\n\"High\"],\n [{\n            'v': 98,\n            'f': \"98\",\n        },\n{\n            'v': 99,\n            'f': \"99\",\n        },\n\"Fiji\",\n{\n            'v': 0.73,\n            'f': \"0.73\",\n        },\n{\n            'v': 67.114,\n            'f': \"67.114\",\n        },\n{\n            'v': 14.73679,\n            'f': \"14.73679\",\n        },\n{\n            'v': 10.92154799,\n            'f': \"10.92154799\",\n        },\n{\n            'v': 9980.110866,\n            'f': \"9980.110866\",\n        },\n\"High\"],\n [{\n            'v': 99,\n            'f': \"99\",\n        },\n{\n            'v': 99,\n            'f': \"99\",\n        },\n\"Suriname\",\n{\n            'v': 0.73,\n            'f': \"0.73\",\n        },\n{\n            'v': 70.2743,\n            'f': \"70.2743\",\n        },\n{\n            'v': 13.03564357,\n            'f': \"13.03564357\",\n        },\n{\n            'v': 9.77680063,\n            'f': \"9.77680063\",\n        },\n{\n            'v': 12672.20033,\n            'f': \"12672.20033\",\n        },\n\"High\"],\n [{\n            'v': 100,\n            'f': \"100\",\n        },\n{\n            'v': 101,\n            'f': \"101\",\n        },\n\"Uzbekistan\",\n{\n            'v': 0.727,\n            'f': \"0.727\",\n        },\n{\n            'v': 70.8616,\n            'f': \"70.8616\",\n        },\n{\n            'v': 12.47714043,\n            'f': \"12.47714043\",\n        },\n{\n            'v': 11.89558983,\n            'f': \"11.89558983\",\n        },\n{\n            'v': 7916.785725,\n            'f': \"7916.785725\",\n        },\n\"High\"],\n [{\n            'v': 101,\n            'f': \"101\",\n        },\n{\n            'v': 102,\n            'f': \"102\",\n        },\n\"Dominica\",\n{\n            'v': 0.72,\n            'f': \"0.72\",\n        },\n{\n            'v': 72.814,\n            'f': \"72.814\",\n        },\n{\n            'v': 13.3191862,\n            'f': \"13.3191862\",\n        },\n{\n            'v': 8.142186,\n            'f': \"8.142186\",\n        },\n{\n            'v': 11487.62422,\n            'f': \"11487.62422\",\n        },\n\"High\"],\n [{\n            'v': 102,\n            'f': \"102\",\n        },\n{\n            'v': 102,\n            'f': \"102\",\n        },\n\"Jordan\",\n{\n            'v': 0.72,\n            'f': \"0.72\",\n        },\n{\n            'v': 74.2563,\n            'f': \"74.2563\",\n        },\n{\n            'v': 10.64655972,\n            'f': \"10.64655972\",\n        },\n{\n            'v': 10.44668007,\n            'f': \"10.44668007\",\n        },\n{\n            'v': 9923.714974,\n            'f': \"9923.714974\",\n        },\n\"High\"],\n [{\n            'v': 103,\n            'f': \"103\",\n        },\n{\n            'v': 104,\n            'f': \"104\",\n        },\n\"Libya\",\n{\n            'v': 0.718,\n            'f': \"0.718\",\n        },\n{\n            'v': 71.9112,\n            'f': \"71.9112\",\n        },\n{\n            'v': 12.85428,\n            'f': \"12.85428\",\n        },\n{\n            'v': 7.599985,\n            'f': \"7.599985\",\n        },\n{\n            'v': 15335.712,\n            'f': \"15335.712\",\n        },\n\"High\"],\n [{\n            'v': 104,\n            'f': \"104\",\n        },\n{\n            'v': 105,\n            'f': \"105\",\n        },\n\"Paraguay\",\n{\n            'v': 0.717,\n            'f': \"0.717\",\n        },\n{\n            'v': 70.2617,\n            'f': \"70.2617\",\n        },\n{\n            'v': 12.98799113,\n            'f': \"12.98799113\",\n        },\n{\n            'v': 8.861840248,\n            'f': \"8.861840248\",\n        },\n{\n            'v': 12349.286,\n            'f': \"12349.286\",\n        },\n\"High\"],\n [{\n            'v': 105,\n            'f': \"105\",\n        },\n{\n            'v': 106,\n            'f': \"106\",\n        },\n\"Palestine, State of\",\n{\n            'v': 0.715,\n            'f': \"0.715\",\n        },\n{\n            'v': 73.4727,\n            'f': \"73.4727\",\n        },\n{\n            'v': 13.35801029,\n            'f': \"13.35801029\",\n        },\n{\n            'v': 9.938480377,\n            'f': \"9.938480377\",\n        },\n{\n            'v': 6582.899416,\n            'f': \"6582.899416\",\n        },\n\"High\"],\n [{\n            'v': 106,\n            'f': \"106\",\n        },\n{\n            'v': 106,\n            'f': \"106\",\n        },\n\"Saint Lucia\",\n{\n            'v': 0.715,\n            'f': \"0.715\",\n        },\n{\n            'v': 71.1114,\n            'f': \"71.1114\",\n        },\n{\n            'v': 12.86610985,\n            'f': \"12.86610985\",\n        },\n{\n            'v': 8.545040131,\n            'f': \"8.545040131\",\n        },\n{\n            'v': 12048.30381,\n            'f': \"12048.30381\",\n        },\n\"High\"],\n [{\n            'v': 107,\n            'f': \"107\",\n        },\n{\n            'v': 108,\n            'f': \"108\",\n        },\n\"Guyana\",\n{\n            'v': 0.714,\n            'f': \"0.714\",\n        },\n{\n            'v': 65.6734,\n            'f': \"65.6734\",\n        },\n{\n            'v': 12.50272216,\n            'f': \"12.50272216\",\n        },\n{\n            'v': 8.617477,\n            'f': \"8.617477\",\n        },\n{\n            'v': 22464.65734,\n            'f': \"22464.65734\",\n        },\n\"High\"],\n [{\n            'v': 108,\n            'f': \"108\",\n        },\n{\n            'v': 109,\n            'f': \"109\",\n        },\n\"South Africa\",\n{\n            'v': 0.713,\n            'f': \"0.713\",\n        },\n{\n            'v': 62.341,\n            'f': \"62.341\",\n        },\n{\n            'v': 13.64371014,\n            'f': \"13.64371014\",\n        },\n{\n            'v': 11.37316036,\n            'f': \"11.37316036\",\n        },\n{\n            'v': 12948.37325,\n            'f': \"12948.37325\",\n        },\n\"High\"],\n [{\n            'v': 109,\n            'f': \"109\",\n        },\n{\n            'v': 110,\n            'f': \"110\",\n        },\n\"Jamaica\",\n{\n            'v': 0.709,\n            'f': \"0.709\",\n        },\n{\n            'v': 70.5003,\n            'f': \"70.5003\",\n        },\n{\n            'v': 13.40492042,\n            'f': \"13.40492042\",\n        },\n{\n            'v': 9.154628661,\n            'f': \"9.154628661\",\n        },\n{\n            'v': 8834.47567,\n            'f': \"8834.47567\",\n        },\n\"High\"],\n [{\n            'v': 110,\n            'f': \"110\",\n        },\n{\n            'v': 111,\n            'f': \"111\",\n        },\n\"Samoa\",\n{\n            'v': 0.707,\n            'f': \"0.707\",\n        },\n{\n            'v': 72.7675,\n            'f': \"72.7675\",\n        },\n{\n            'v': 12.41885948,\n            'f': \"12.41885948\",\n        },\n{\n            'v': 11.4038,\n            'f': \"11.4038\",\n        },\n{\n            'v': 5307.953374,\n            'f': \"5307.953374\",\n        },\n\"High\"],\n [{\n            'v': 111,\n            'f': \"111\",\n        },\n{\n            'v': 112,\n            'f': \"112\",\n        },\n\"Gabon\",\n{\n            'v': 0.706,\n            'f': \"0.706\",\n        },\n{\n            'v': 65.821,\n            'f': \"65.821\",\n        },\n{\n            'v': 12.97731,\n            'f': \"12.97731\",\n        },\n{\n            'v': 9.436,\n            'f': \"9.436\",\n        },\n{\n            'v': 13366.93455,\n            'f': \"13366.93455\",\n        },\n\"High\"],\n [{\n            'v': 112,\n            'f': \"112\",\n        },\n{\n            'v': 112,\n            'f': \"112\",\n        },\n\"Lebanon\",\n{\n            'v': 0.706,\n            'f': \"0.706\",\n        },\n{\n            'v': 75.0472,\n            'f': \"75.0472\",\n        },\n{\n            'v': 11.28587,\n            'f': \"11.28587\",\n        },\n{\n            'v': 8.718636,\n            'f': \"8.718636\",\n        },\n{\n            'v': 9525.831467,\n            'f': \"9525.831467\",\n        },\n\"High\"],\n [{\n            'v': 113,\n            'f': \"113\",\n        },\n{\n            'v': 114,\n            'f': \"114\",\n        },\n\"Indonesia\",\n{\n            'v': 0.705,\n            'f': \"0.705\",\n        },\n{\n            'v': 67.5703,\n            'f': \"67.5703\",\n        },\n{\n            'v': 13.74889386,\n            'f': \"13.74889386\",\n        },\n{\n            'v': 8.556509972,\n            'f': \"8.556509972\",\n        },\n{\n            'v': 11466.06836,\n            'f': \"11466.06836\",\n        },\n\"High\"],\n [{\n            'v': 114,\n            'f': \"114\",\n        },\n{\n            'v': 115,\n            'f': \"115\",\n        },\n\"Viet Nam\",\n{\n            'v': 0.703,\n            'f': \"0.703\",\n        },\n{\n            'v': 73.6181,\n            'f': \"73.6181\",\n        },\n{\n            'v': 12.9519325,\n            'f': \"12.9519325\",\n        },\n{\n            'v': 8.370280266,\n            'f': \"8.370280266\",\n        },\n{\n            'v': 7867.371345,\n            'f': \"7867.371345\",\n        },\n\"High\"],\n [{\n            'v': 115,\n            'f': \"115\",\n        },\n{\n            'v': 116,\n            'f': \"116\",\n        },\n\"Philippines\",\n{\n            'v': 0.699,\n            'f': \"0.699\",\n        },\n{\n            'v': 69.2664,\n            'f': \"69.2664\",\n        },\n{\n            'v': 13.12656975,\n            'f': \"13.12656975\",\n        },\n{\n            'v': 8.969099998,\n            'f': \"8.969099998\",\n        },\n{\n            'v': 8920.428468,\n            'f': \"8920.428468\",\n        },\n\"Medium\"],\n [{\n            'v': 116,\n            'f': \"116\",\n        },\n{\n            'v': 117,\n            'f': \"117\",\n        },\n\"Botswana\",\n{\n            'v': 0.693,\n            'f': \"0.693\",\n        },\n{\n            'v': 61.1409,\n            'f': \"61.1409\",\n        },\n{\n            'v': 12.26513765,\n            'f': \"12.26513765\",\n        },\n{\n            'v': 10.34,\n            'f': \"10.34\",\n        },\n{\n            'v': 16198.31841,\n            'f': \"16198.31841\",\n        },\n\"Medium\"],\n [{\n            'v': 117,\n            'f': \"117\",\n        },\n{\n            'v': 118,\n            'f': \"118\",\n        },\n\"Bolivia (Plurinational State of)\",\n{\n            'v': 0.692,\n            'f': \"0.692\",\n        },\n{\n            'v': 63.6304,\n            'f': \"63.6304\",\n        },\n{\n            'v': 14.94697094,\n            'f': \"14.94697094\",\n        },\n{\n            'v': 9.827750206,\n            'f': \"9.827750206\",\n        },\n{\n            'v': 8111.190194,\n            'f': \"8111.190194\",\n        },\n\"Medium\"],\n [{\n            'v': 118,\n            'f': \"118\",\n        },\n{\n            'v': 118,\n            'f': \"118\",\n        },\n\"Kyrgyzstan\",\n{\n            'v': 0.692,\n            'f': \"0.692\",\n        },\n{\n            'v': 69.9774,\n            'f': \"69.9774\",\n        },\n{\n            'v': 13.1953001,\n            'f': \"13.1953001\",\n        },\n{\n            'v': 11.37410556,\n            'f': \"11.37410556\",\n        },\n{\n            'v': 4566.303831,\n            'f': \"4566.303831\",\n        },\n\"Medium\"],\n [{\n            'v': 119,\n            'f': \"119\",\n        },\n{\n            'v': 120,\n            'f': \"120\",\n        },\n\"Venezuela (Bolivarian Republic of)\",\n{\n            'v': 0.691,\n            'f': \"0.691\",\n        },\n{\n            'v': 70.5536,\n            'f': \"70.5536\",\n        },\n{\n            'v': 12.81608,\n            'f': \"12.81608\",\n        },\n{\n            'v': 11.10727736,\n            'f': \"11.10727736\",\n        },\n{\n            'v': 4810.882621,\n            'f': \"4810.882621\",\n        },\n\"Medium\"],\n [{\n            'v': 120,\n            'f': \"120\",\n        },\n{\n            'v': 121,\n            'f': \"121\",\n        },\n\"Iraq\",\n{\n            'v': 0.686,\n            'f': \"0.686\",\n        },\n{\n            'v': 70.3779,\n            'f': \"70.3779\",\n        },\n{\n            'v': 12.08747317,\n            'f': \"12.08747317\",\n        },\n{\n            'v': 7.905593489,\n            'f': \"7.905593489\",\n        },\n{\n            'v': 9977.249073,\n            'f': \"9977.249073\",\n        },\n\"Medium\"],\n [{\n            'v': 121,\n            'f': \"121\",\n        },\n{\n            'v': 122,\n            'f': \"122\",\n        },\n\"Tajikistan\",\n{\n            'v': 0.685,\n            'f': \"0.685\",\n        },\n{\n            'v': 71.5942,\n            'f': \"71.5942\",\n        },\n{\n            'v': 11.65303618,\n            'f': \"11.65303618\",\n        },\n{\n            'v': 11.3333938,\n            'f': \"11.3333938\",\n        },\n{\n            'v': 4547.742427,\n            'f': \"4547.742427\",\n        },\n\"Medium\"],\n [{\n            'v': 122,\n            'f': \"122\",\n        },\n{\n            'v': 123,\n            'f': \"123\",\n        },\n\"Belize\",\n{\n            'v': 0.683,\n            'f': \"0.683\",\n        },\n{\n            'v': 70.4697,\n            'f': \"70.4697\",\n        },\n{\n            'v': 12.99168968,\n            'f': \"12.99168968\",\n        },\n{\n            'v': 8.847599983,\n            'f': \"8.847599983\",\n        },\n{\n            'v': 6309.099778,\n            'f': \"6309.099778\",\n        },\n\"Medium\"],\n [{\n            'v': 123,\n            'f': \"123\",\n        },\n{\n            'v': 123,\n            'f': \"123\",\n        },\n\"Morocco\",\n{\n            'v': 0.683,\n            'f': \"0.683\",\n        },\n{\n            'v': 74.0419,\n            'f': \"74.0419\",\n        },\n{\n            'v': 14.15190983,\n            'f': \"14.15190983\",\n        },\n{\n            'v': 5.916,\n            'f': \"5.916\",\n        },\n{\n            'v': 7302.81917,\n            'f': \"7302.81917\",\n        },\n\"Medium\"],\n [{\n            'v': 124,\n            'f': \"124\",\n        },\n{\n            'v': 125,\n            'f': \"125\",\n        },\n\"El Salvador\",\n{\n            'v': 0.675,\n            'f': \"0.675\",\n        },\n{\n            'v': 70.7479,\n            'f': \"70.7479\",\n        },\n{\n            'v': 12.67134767,\n            'f': \"12.67134767\",\n        },\n{\n            'v': 7.150929928,\n            'f': \"7.150929928\",\n        },\n{\n            'v': 8295.665889,\n            'f': \"8295.665889\",\n        },\n\"Medium\"],\n [{\n            'v': 125,\n            'f': \"125\",\n        },\n{\n            'v': 126,\n            'f': \"126\",\n        },\n\"Nicaragua\",\n{\n            'v': 0.667,\n            'f': \"0.667\",\n        },\n{\n            'v': 73.8368,\n            'f': \"73.8368\",\n        },\n{\n            'v': 12.64135783,\n            'f': \"12.64135783\",\n        },\n{\n            'v': 7.144,\n            'f': \"7.144\",\n        },\n{\n            'v': 5624.793595,\n            'f': \"5624.793595\",\n        },\n\"Medium\"],\n [{\n            'v': 126,\n            'f': \"126\",\n        },\n{\n            'v': 127,\n            'f': \"127\",\n        },\n\"Bhutan\",\n{\n            'v': 0.666,\n            'f': \"0.666\",\n        },\n{\n            'v': 71.815,\n            'f': \"71.815\",\n        },\n{\n            'v': 13.22500478,\n            'f': \"13.22500478\",\n        },\n{\n            'v': 5.170262283,\n            'f': \"5.170262283\",\n        },\n{\n            'v': 9437.541512,\n            'f': \"9437.541512\",\n        },\n\"Medium\"],\n [{\n            'v': 127,\n            'f': \"127\",\n        },\n{\n            'v': 128,\n            'f': \"128\",\n        },\n\"Cabo Verde\",\n{\n            'v': 0.662,\n            'f': \"0.662\",\n        },\n{\n            'v': 74.0518,\n            'f': \"74.0518\",\n        },\n{\n            'v': 12.55461444,\n            'f': \"12.55461444\",\n        },\n{\n            'v': 6.287719287,\n            'f': \"6.287719287\",\n        },\n{\n            'v': 6230.200199,\n            'f': \"6230.200199\",\n        },\n\"Medium\"],\n [{\n            'v': 128,\n            'f': \"128\",\n        },\n{\n            'v': 129,\n            'f': \"129\",\n        },\n\"Bangladesh\",\n{\n            'v': 0.661,\n            'f': \"0.661\",\n        },\n{\n            'v': 72.3811,\n            'f': \"72.3811\",\n        },\n{\n            'v': 12.44198036,\n            'f': \"12.44198036\",\n        },\n{\n            'v': 7.379059792,\n            'f': \"7.379059792\",\n        },\n{\n            'v': 5472.104781,\n            'f': \"5472.104781\",\n        },\n\"Medium\"],\n [{\n            'v': 129,\n            'f': \"129\",\n        },\n{\n            'v': 130,\n            'f': \"130\",\n        },\n\"Tuvalu\",\n{\n            'v': 0.641,\n            'f': \"0.641\",\n        },\n{\n            'v': 64.5466,\n            'f': \"64.5466\",\n        },\n{\n            'v': 9.40443,\n            'f': \"9.40443\",\n        },\n{\n            'v': 10.57310772,\n            'f': \"10.57310772\",\n        },\n{\n            'v': 6351.435899,\n            'f': \"6351.435899\",\n        },\n\"Medium\"],\n [{\n            'v': 130,\n            'f': \"130\",\n        },\n{\n            'v': 131,\n            'f': \"131\",\n        },\n\"Marshall Islands\",\n{\n            'v': 0.639,\n            'f': \"0.639\",\n        },\n{\n            'v': 65.2688,\n            'f': \"65.2688\",\n        },\n{\n            'v': 10.2393198,\n            'f': \"10.2393198\",\n        },\n{\n            'v': 10.88313961,\n            'f': \"10.88313961\",\n        },\n{\n            'v': 4619.535393,\n            'f': \"4619.535393\",\n        },\n\"Medium\"],\n [{\n            'v': 131,\n            'f': \"131\",\n        },\n{\n            'v': 132,\n            'f': \"132\",\n        },\n\"India\",\n{\n            'v': 0.633,\n            'f': \"0.633\",\n        },\n{\n            'v': 67.2398,\n            'f': \"67.2398\",\n        },\n{\n            'v': 11.87462044,\n            'f': \"11.87462044\",\n        },\n{\n            'v': 6.655109195,\n            'f': \"6.655109195\",\n        },\n{\n            'v': 6589.980037,\n            'f': \"6589.980037\",\n        },\n\"Medium\"],\n [{\n            'v': 132,\n            'f': \"132\",\n        },\n{\n            'v': 133,\n            'f': \"133\",\n        },\n\"Ghana\",\n{\n            'v': 0.632,\n            'f': \"0.632\",\n        },\n{\n            'v': 63.7954,\n            'f': \"63.7954\",\n        },\n{\n            'v': 12.04778004,\n            'f': \"12.04778004\",\n        },\n{\n            'v': 8.329886695,\n            'f': \"8.329886695\",\n        },\n{\n            'v': 5744.504017,\n            'f': \"5744.504017\",\n        },\n\"Medium\"],\n [{\n            'v': 133,\n            'f': \"133\",\n        },\n{\n            'v': 134,\n            'f': \"134\",\n        },\n\"Micronesia (Federated States of)\",\n{\n            'v': 0.628,\n            'f': \"0.628\",\n        },\n{\n            'v': 70.71,\n            'f': \"70.71\",\n        },\n{\n            'v': 11.54947988,\n            'f': \"11.54947988\",\n        },\n{\n            'v': 7.804956,\n            'f': \"7.804956\",\n        },\n{\n            'v': 3696.173945,\n            'f': \"3696.173945\",\n        },\n\"Medium\"],\n [{\n            'v': 134,\n            'f': \"134\",\n        },\n{\n            'v': 135,\n            'f': \"135\",\n        },\n\"Guatemala\",\n{\n            'v': 0.627,\n            'f': \"0.627\",\n        },\n{\n            'v': 69.2368,\n            'f': \"69.2368\",\n        },\n{\n            'v': 10.56245041,\n            'f': \"10.56245041\",\n        },\n{\n            'v': 5.681300163,\n            'f': \"5.681300163\",\n        },\n{\n            'v': 8723.285317,\n            'f': \"8723.285317\",\n        },\n\"Medium\"],\n [{\n            'v': 135,\n            'f': \"135\",\n        },\n{\n            'v': 136,\n            'f': \"136\",\n        },\n\"Kiribati\",\n{\n            'v': 0.624,\n            'f': \"0.624\",\n        },\n{\n            'v': 67.4172,\n            'f': \"67.4172\",\n        },\n{\n            'v': 11.801993,\n            'f': \"11.801993\",\n        },\n{\n            'v': 7.984461822,\n            'f': \"7.984461822\",\n        },\n{\n            'v': 4062.586034,\n            'f': \"4062.586034\",\n        },\n\"Medium\"],\n [{\n            'v': 136,\n            'f': \"136\",\n        },\n{\n            'v': 137,\n            'f': \"137\",\n        },\n\"Honduras\",\n{\n            'v': 0.621,\n            'f': \"0.621\",\n        },\n{\n            'v': 70.1229,\n            'f': \"70.1229\",\n        },\n{\n            'v': 10.13281417,\n            'f': \"10.13281417\",\n        },\n{\n            'v': 7.088479996,\n            'f': \"7.088479996\",\n        },\n{\n            'v': 5297.955301,\n            'f': \"5297.955301\",\n        },\n\"Medium\"],\n [{\n            'v': 137,\n            'f': \"137\",\n        },\n{\n            'v': 138,\n            'f': \"138\",\n        },\n\"Sao Tome and Principe\",\n{\n            'v': 0.618,\n            'f': \"0.618\",\n        },\n{\n            'v': 67.5912,\n            'f': \"67.5912\",\n        },\n{\n            'v': 13.36538506,\n            'f': \"13.36538506\",\n        },\n{\n            'v': 6.215599435,\n            'f': \"6.215599435\",\n        },\n{\n            'v': 4021.350815,\n            'f': \"4021.350815\",\n        },\n\"Medium\"],\n [{\n            'v': 138,\n            'f': \"138\",\n        },\n{\n            'v': 139,\n            'f': \"139\",\n        },\n\"Namibia\",\n{\n            'v': 0.615,\n            'f': \"0.615\",\n        },\n{\n            'v': 59.269,\n            'f': \"59.269\",\n        },\n{\n            'v': 11.92720692,\n            'f': \"11.92720692\",\n        },\n{\n            'v': 7.192013277,\n            'f': \"7.192013277\",\n        },\n{\n            'v': 8633.504452,\n            'f': \"8633.504452\",\n        },\n\"Medium\"],\n [{\n            'v': 139,\n            'f': \"139\",\n        },\n{\n            'v': 140,\n            'f': \"140\",\n        },\n\"Lao People's Democratic Republic\",\n{\n            'v': 0.607,\n            'f': \"0.607\",\n        },\n{\n            'v': 68.0608,\n            'f': \"68.0608\",\n        },\n{\n            'v': 10.13611031,\n            'f': \"10.13611031\",\n        },\n{\n            'v': 5.374,\n            'f': \"5.374\",\n        },\n{\n            'v': 7699.579617,\n            'f': \"7699.579617\",\n        },\n\"Medium\"],\n [{\n            'v': 140,\n            'f': \"140\",\n        },\n{\n            'v': 140,\n            'f': \"140\",\n        },\n\"Timor-Leste\",\n{\n            'v': 0.607,\n            'f': \"0.607\",\n        },\n{\n            'v': 67.7369,\n            'f': \"67.7369\",\n        },\n{\n            'v': 12.616098,\n            'f': \"12.616098\",\n        },\n{\n            'v': 5.43679,\n            'f': \"5.43679\",\n        },\n{\n            'v': 4460.869435,\n            'f': \"4460.869435\",\n        },\n\"Medium\"],\n [{\n            'v': 141,\n            'f': \"141\",\n        },\n{\n            'v': 140,\n            'f': \"140\",\n        },\n\"Vanuatu\",\n{\n            'v': 0.607,\n            'f': \"0.607\",\n        },\n{\n            'v': 70.449,\n            'f': \"70.449\",\n        },\n{\n            'v': 11.53531503,\n            'f': \"11.53531503\",\n        },\n{\n            'v': 7.064846,\n            'f': \"7.064846\",\n        },\n{\n            'v': 3085.411633,\n            'f': \"3085.411633\",\n        },\n\"Medium\"],\n [{\n            'v': 142,\n            'f': \"142\",\n        },\n{\n            'v': 143,\n            'f': \"143\",\n        },\n\"Nepal\",\n{\n            'v': 0.602,\n            'f': \"0.602\",\n        },\n{\n            'v': 68.4495,\n            'f': \"68.4495\",\n        },\n{\n            'v': 12.88694954,\n            'f': \"12.88694954\",\n        },\n{\n            'v': 5.121792742,\n            'f': \"5.121792742\",\n        },\n{\n            'v': 3877.315444,\n            'f': \"3877.315444\",\n        },\n\"Medium\"],\n [{\n            'v': 143,\n            'f': \"143\",\n        },\n{\n            'v': 144,\n            'f': \"144\",\n        },\n\"Eswatini (Kingdom of)\",\n{\n            'v': 0.597,\n            'f': \"0.597\",\n        },\n{\n            'v': 57.0657,\n            'f': \"57.0657\",\n        },\n{\n            'v': 13.74434586,\n            'f': \"13.74434586\",\n        },\n{\n            'v': 5.596,\n            'f': \"5.596\",\n        },\n{\n            'v': 7678.591873,\n            'f': \"7678.591873\",\n        },\n\"Medium\"],\n [{\n            'v': 144,\n            'f': \"144\",\n        },\n{\n            'v': 145,\n            'f': \"145\",\n        },\n\"Equatorial Guinea\",\n{\n            'v': 0.596,\n            'f': \"0.596\",\n        },\n{\n            'v': 60.5943,\n            'f': \"60.5943\",\n        },\n{\n            'v': 9.73494,\n            'f': \"9.73494\",\n        },\n{\n            'v': 5.910863,\n            'f': \"5.910863\",\n        },\n{\n            'v': 12073.95993,\n            'f': \"12073.95993\",\n        },\n\"Medium\"],\n [{\n            'v': 145,\n            'f': \"145\",\n        },\n{\n            'v': 146,\n            'f': \"146\",\n        },\n\"Cambodia\",\n{\n            'v': 0.593,\n            'f': \"0.593\",\n        },\n{\n            'v': 69.5835,\n            'f': \"69.5835\",\n        },\n{\n            'v': 11.46772,\n            'f': \"11.46772\",\n        },\n{\n            'v': 5.088,\n            'f': \"5.088\",\n        },\n{\n            'v': 4078.697154,\n            'f': \"4078.697154\",\n        },\n\"Medium\"],\n [{\n            'v': 146,\n            'f': \"146\",\n        },\n{\n            'v': 146,\n            'f': \"146\",\n        },\n\"Zimbabwe\",\n{\n            'v': 0.593,\n            'f': \"0.593\",\n        },\n{\n            'v': 59.2531,\n            'f': \"59.2531\",\n        },\n{\n            'v': 12.11096904,\n            'f': \"12.11096904\",\n        },\n{\n            'v': 8.710908501,\n            'f': \"8.710908501\",\n        },\n{\n            'v': 3809.887158,\n            'f': \"3809.887158\",\n        },\n\"Medium\"],\n [{\n            'v': 147,\n            'f': \"147\",\n        },\n{\n            'v': 148,\n            'f': \"148\",\n        },\n\"Angola\",\n{\n            'v': 0.586,\n            'f': \"0.586\",\n        },\n{\n            'v': 61.6434,\n            'f': \"61.6434\",\n        },\n{\n            'v': 12.1721,\n            'f': \"12.1721\",\n        },\n{\n            'v': 5.417390823,\n            'f': \"5.417390823\",\n        },\n{\n            'v': 5465.617791,\n            'f': \"5465.617791\",\n        },\n\"Medium\"],\n [{\n            'v': 148,\n            'f': \"148\",\n        },\n{\n            'v': 149,\n            'f': \"149\",\n        },\n\"Myanmar\",\n{\n            'v': 0.585,\n            'f': \"0.585\",\n        },\n{\n            'v': 65.6716,\n            'f': \"65.6716\",\n        },\n{\n            'v': 10.90913752,\n            'f': \"10.90913752\",\n        },\n{\n            'v': 6.37680006,\n            'f': \"6.37680006\",\n        },\n{\n            'v': 3850.524234,\n            'f': \"3850.524234\",\n        },\n\"Medium\"],\n [{\n            'v': 149,\n            'f': \"149\",\n        },\n{\n            'v': 150,\n            'f': \"150\",\n        },\n\"Syrian Arab Republic\",\n{\n            'v': 0.577,\n            'f': \"0.577\",\n        },\n{\n            'v': 72.0627,\n            'f': \"72.0627\",\n        },\n{\n            'v': 9.164219856,\n            'f': \"9.164219856\",\n        },\n{\n            'v': 5.1,\n            'f': \"5.1\",\n        },\n{\n            'v': 4191.933893,\n            'f': \"4191.933893\",\n        },\n\"Medium\"],\n [{\n            'v': 150,\n            'f': \"150\",\n        },\n{\n            'v': 151,\n            'f': \"151\",\n        },\n\"Cameroon\",\n{\n            'v': 0.576,\n            'f': \"0.576\",\n        },\n{\n            'v': 60.3334,\n            'f': \"60.3334\",\n        },\n{\n            'v': 13.10859922,\n            'f': \"13.10859922\",\n        },\n{\n            'v': 6.15131,\n            'f': \"6.15131\",\n        },\n{\n            'v': 3620.932408,\n            'f': \"3620.932408\",\n        },\n\"Medium\"],\n [{\n            'v': 151,\n            'f': \"151\",\n        },\n{\n            'v': 152,\n            'f': \"152\",\n        },\n\"Kenya\",\n{\n            'v': 0.575,\n            'f': \"0.575\",\n        },\n{\n            'v': 61.427,\n            'f': \"61.427\",\n        },\n{\n            'v': 10.69855835,\n            'f': \"10.69855835\",\n        },\n{\n            'v': 6.652,\n            'f': \"6.652\",\n        },\n{\n            'v': 4473.570344,\n            'f': \"4473.570344\",\n        },\n\"Medium\"],\n [{\n            'v': 152,\n            'f': \"152\",\n        },\n{\n            'v': 153,\n            'f': \"153\",\n        },\n\"Congo\",\n{\n            'v': 0.571,\n            'f': \"0.571\",\n        },\n{\n            'v': 63.5187,\n            'f': \"63.5187\",\n        },\n{\n            'v': 12.33081527,\n            'f': \"12.33081527\",\n        },\n{\n            'v': 6.166,\n            'f': \"6.166\",\n        },\n{\n            'v': 2889.283521,\n            'f': \"2889.283521\",\n        },\n\"Medium\"],\n [{\n            'v': 153,\n            'f': \"153\",\n        },\n{\n            'v': 154,\n            'f': \"154\",\n        },\n\"Zambia\",\n{\n            'v': 0.565,\n            'f': \"0.565\",\n        },\n{\n            'v': 61.2234,\n            'f': \"61.2234\",\n        },\n{\n            'v': 10.92876021,\n            'f': \"10.92876021\",\n        },\n{\n            'v': 7.187091494,\n            'f': \"7.187091494\",\n        },\n{\n            'v': 3217.767739,\n            'f': \"3217.767739\",\n        },\n\"Medium\"],\n [{\n            'v': 154,\n            'f': \"154\",\n        },\n{\n            'v': 155,\n            'f': \"155\",\n        },\n\"Solomon Islands\",\n{\n            'v': 0.564,\n            'f': \"0.564\",\n        },\n{\n            'v': 70.3477,\n            'f': \"70.3477\",\n        },\n{\n            'v': 10.32869027,\n            'f': \"10.32869027\",\n        },\n{\n            'v': 5.711848,\n            'f': \"5.711848\",\n        },\n{\n            'v': 2481.511362,\n            'f': \"2481.511362\",\n        },\n\"Medium\"],\n [{\n            'v': 155,\n            'f': \"155\",\n        },\n{\n            'v': 156,\n            'f': \"156\",\n        },\n\"Comoros\",\n{\n            'v': 0.558,\n            'f': \"0.558\",\n        },\n{\n            'v': 63.4174,\n            'f': \"63.4174\",\n        },\n{\n            'v': 11.92432393,\n            'f': \"11.92432393\",\n        },\n{\n            'v': 5.078649,\n            'f': \"5.078649\",\n        },\n{\n            'v': 3142.064119,\n            'f': \"3142.064119\",\n        },\n\"Medium\"],\n [{\n            'v': 156,\n            'f': \"156\",\n        },\n{\n            'v': 156,\n            'f': \"156\",\n        },\n\"Papua New Guinea\",\n{\n            'v': 0.558,\n            'f': \"0.558\",\n        },\n{\n            'v': 65.3506,\n            'f': \"65.3506\",\n        },\n{\n            'v': 10.36077074,\n            'f': \"10.36077074\",\n        },\n{\n            'v': 4.74,\n            'f': \"4.74\",\n        },\n{\n            'v': 4008.623573,\n            'f': \"4008.623573\",\n        },\n\"Medium\"],\n [{\n            'v': 157,\n            'f': \"157\",\n        },\n{\n            'v': 158,\n            'f': \"158\",\n        },\n\"Mauritania\",\n{\n            'v': 0.556,\n            'f': \"0.556\",\n        },\n{\n            'v': 64.3636,\n            'f': \"64.3636\",\n        },\n{\n            'v': 9.376159668,\n            'f': \"9.376159668\",\n        },\n{\n            'v': 4.918804891,\n            'f': \"4.918804891\",\n        },\n{\n            'v': 5075.305711,\n            'f': \"5075.305711\",\n        },\n\"Medium\"],\n [{\n            'v': 158,\n            'f': \"158\",\n        },\n{\n            'v': 159,\n            'f': \"159\",\n        },\n\"C\\u00f4te d'Ivoire\",\n{\n            'v': 0.55,\n            'f': \"0.55\",\n        },\n{\n            'v': 58.5983,\n            'f': \"58.5983\",\n        },\n{\n            'v': 10.67558002,\n            'f': \"10.67558002\",\n        },\n{\n            'v': 5.199138977,\n            'f': \"5.199138977\",\n        },\n{\n            'v': 5217.448516,\n            'f': \"5217.448516\",\n        },\n\"Medium\"],\n [{\n            'v': 159,\n            'f': \"159\",\n        },\n{\n            'v': 160,\n            'f': \"160\",\n        },\n\"Tanzania (United Republic of)\",\n{\n            'v': 0.549,\n            'f': \"0.549\",\n        },\n{\n            'v': 66.2007,\n            'f': \"66.2007\",\n        },\n{\n            'v': 9.221489906,\n            'f': \"9.221489906\",\n        },\n{\n            'v': 6.37289871,\n            'f': \"6.37289871\",\n        },\n{\n            'v': 2664.329096,\n            'f': \"2664.329096\",\n        },\n\"Low\"],\n [{\n            'v': 160,\n            'f': \"160\",\n        },\n{\n            'v': 161,\n            'f': \"161\",\n        },\n\"Pakistan\",\n{\n            'v': 0.544,\n            'f': \"0.544\",\n        },\n{\n            'v': 66.0979,\n            'f': \"66.0979\",\n        },\n{\n            'v': 8.658349991,\n            'f': \"8.658349991\",\n        },\n{\n            'v': 4.536330223,\n            'f': \"4.536330223\",\n        },\n{\n            'v': 4623.70543,\n            'f': \"4623.70543\",\n        },\n\"Low\"],\n [{\n            'v': 161,\n            'f': \"161\",\n        },\n{\n            'v': 162,\n            'f': \"162\",\n        },\n\"Togo\",\n{\n            'v': 0.539,\n            'f': \"0.539\",\n        },\n{\n            'v': 61.6194,\n            'f': \"61.6194\",\n        },\n{\n            'v': 12.95049378,\n            'f': \"12.95049378\",\n        },\n{\n            'v': 5.016807367,\n            'f': \"5.016807367\",\n        },\n{\n            'v': 2166.619062,\n            'f': \"2166.619062\",\n        },\n\"Low\"],\n [{\n            'v': 162,\n            'f': \"162\",\n        },\n{\n            'v': 163,\n            'f': \"163\",\n        },\n\"Haiti\",\n{\n            'v': 0.535,\n            'f': \"0.535\",\n        },\n{\n            'v': 63.1924,\n            'f': \"63.1924\",\n        },\n{\n            'v': 9.7,\n            'f': \"9.7\",\n        },\n{\n            'v': 5.554,\n            'f': \"5.554\",\n        },\n{\n            'v': 2847.500746,\n            'f': \"2847.500746\",\n        },\n\"Low\"],\n [{\n            'v': 163,\n            'f': \"163\",\n        },\n{\n            'v': 163,\n            'f': \"163\",\n        },\n\"Nigeria\",\n{\n            'v': 0.535,\n            'f': \"0.535\",\n        },\n{\n            'v': 52.676,\n            'f': \"52.676\",\n        },\n{\n            'v': 10.12758388,\n            'f': \"10.12758388\",\n        },\n{\n            'v': 7.181074153,\n            'f': \"7.181074153\",\n        },\n{\n            'v': 4790.284425,\n            'f': \"4790.284425\",\n        },\n\"Low\"],\n [{\n            'v': 164,\n            'f': \"164\",\n        },\n{\n            'v': 165,\n            'f': \"165\",\n        },\n\"Rwanda\",\n{\n            'v': 0.534,\n            'f': \"0.534\",\n        },\n{\n            'v': 66.0722,\n            'f': \"66.0722\",\n        },\n{\n            'v': 11.23097038,\n            'f': \"11.23097038\",\n        },\n{\n            'v': 4.425292358,\n            'f': \"4.425292358\",\n        },\n{\n            'v': 2209.795202,\n            'f': \"2209.795202\",\n        },\n\"Low\"],\n [{\n            'v': 165,\n            'f': \"165\",\n        },\n{\n            'v': 166,\n            'f': \"166\",\n        },\n\"Benin\",\n{\n            'v': 0.525,\n            'f': \"0.525\",\n        },\n{\n            'v': 59.821,\n            'f': \"59.821\",\n        },\n{\n            'v': 10.76667976,\n            'f': \"10.76667976\",\n        },\n{\n            'v': 4.304786445,\n            'f': \"4.304786445\",\n        },\n{\n            'v': 3408.965923,\n            'f': \"3408.965923\",\n        },\n\"Low\"],\n [{\n            'v': 166,\n            'f': \"166\",\n        },\n{\n            'v': 166,\n            'f': \"166\",\n        },\n\"Uganda\",\n{\n            'v': 0.525,\n            'f': \"0.525\",\n        },\n{\n            'v': 62.7048,\n            'f': \"62.7048\",\n        },\n{\n            'v': 10.14986994,\n            'f': \"10.14986994\",\n        },\n{\n            'v': 5.730941566,\n            'f': \"5.730941566\",\n        },\n{\n            'v': 2181.43651,\n            'f': \"2181.43651\",\n        },\n\"Low\"],\n [{\n            'v': 167,\n            'f': \"167\",\n        },\n{\n            'v': 168,\n            'f': \"168\",\n        },\n\"Lesotho\",\n{\n            'v': 0.514,\n            'f': \"0.514\",\n        },\n{\n            'v': 53.062,\n            'f': \"53.062\",\n        },\n{\n            'v': 12.04087801,\n            'f': \"12.04087801\",\n        },\n{\n            'v': 6.010184707,\n            'f': \"6.010184707\",\n        },\n{\n            'v': 2700.435748,\n            'f': \"2700.435748\",\n        },\n\"Low\"],\n [{\n            'v': 168,\n            'f': \"168\",\n        },\n{\n            'v': 169,\n            'f': \"169\",\n        },\n\"Malawi\",\n{\n            'v': 0.512,\n            'f': \"0.512\",\n        },\n{\n            'v': 62.9044,\n            'f': \"62.9044\",\n        },\n{\n            'v': 12.67898523,\n            'f': \"12.67898523\",\n        },\n{\n            'v': 4.489695385,\n            'f': \"4.489695385\",\n        },\n{\n            'v': 1465.635064,\n            'f': \"1465.635064\",\n        },\n\"Low\"],\n [{\n            'v': 169,\n            'f': \"169\",\n        },\n{\n            'v': 170,\n            'f': \"170\",\n        },\n\"Senegal\",\n{\n            'v': 0.511,\n            'f': \"0.511\",\n        },\n{\n            'v': 67.0926,\n            'f': \"67.0926\",\n        },\n{\n            'v': 8.963749886,\n            'f': \"8.963749886\",\n        },\n{\n            'v': 2.937938258,\n            'f': \"2.937938258\",\n        },\n{\n            'v': 3344.311825,\n            'f': \"3344.311825\",\n        },\n\"Low\"],\n [{\n            'v': 170,\n            'f': \"170\",\n        },\n{\n            'v': 171,\n            'f': \"171\",\n        },\n\"Djibouti\",\n{\n            'v': 0.509,\n            'f': \"0.509\",\n        },\n{\n            'v': 62.3049,\n            'f': \"62.3049\",\n        },\n{\n            'v': 7.43298,\n            'f': \"7.43298\",\n        },\n{\n            'v': 4.1,\n            'f': \"4.1\",\n        },\n{\n            'v': 5024.993944,\n            'f': \"5024.993944\",\n        },\n\"Low\"],\n [{\n            'v': 171,\n            'f': \"171\",\n        },\n{\n            'v': 172,\n            'f': \"172\",\n        },\n\"Sudan\",\n{\n            'v': 0.508,\n            'f': \"0.508\",\n        },\n{\n            'v': 65.2667,\n            'f': \"65.2667\",\n        },\n{\n            'v': 7.945187858,\n            'f': \"7.945187858\",\n        },\n{\n            'v': 3.82,\n            'f': \"3.82\",\n        },\n{\n            'v': 3575.19084,\n            'f': \"3575.19084\",\n        },\n\"Low\"],\n [{\n            'v': 172,\n            'f': \"172\",\n        },\n{\n            'v': 173,\n            'f': \"173\",\n        },\n\"Madagascar\",\n{\n            'v': 0.501,\n            'f': \"0.501\",\n        },\n{\n            'v': 64.4853,\n            'f': \"64.4853\",\n        },\n{\n            'v': 10.13499142,\n            'f': \"10.13499142\",\n        },\n{\n            'v': 5.120468534,\n            'f': \"5.120468534\",\n        },\n{\n            'v': 1483.520983,\n            'f': \"1483.520983\",\n        },\n\"Low\"],\n [{\n            'v': 173,\n            'f': \"173\",\n        },\n{\n            'v': 174,\n            'f': \"174\",\n        },\n\"Gambia\",\n{\n            'v': 0.5,\n            'f': \"0.5\",\n        },\n{\n            'v': 62.083,\n            'f': \"62.083\",\n        },\n{\n            'v': 9.418626299,\n            'f': \"9.418626299\",\n        },\n{\n            'v': 4.637487411,\n            'f': \"4.637487411\",\n        },\n{\n            'v': 2172.207664,\n            'f': \"2172.207664\",\n        },\n\"Low\"],\n [{\n            'v': 174,\n            'f': \"174\",\n        },\n{\n            'v': 175,\n            'f': \"175\",\n        },\n\"Ethiopia\",\n{\n            'v': 0.498,\n            'f': \"0.498\",\n        },\n{\n            'v': 64.9748,\n            'f': \"64.9748\",\n        },\n{\n            'v': 9.651071421,\n            'f': \"9.651071421\",\n        },\n{\n            'v': 3.201520681,\n            'f': \"3.201520681\",\n        },\n{\n            'v': 2361.069604,\n            'f': \"2361.069604\",\n        },\n\"Low\"],\n [{\n            'v': 175,\n            'f': \"175\",\n        },\n{\n            'v': 176,\n            'f': \"176\",\n        },\n\"Eritrea\",\n{\n            'v': 0.492,\n            'f': \"0.492\",\n        },\n{\n            'v': 66.5358,\n            'f': \"66.5358\",\n        },\n{\n            'v': 8.064524628,\n            'f': \"8.064524628\",\n        },\n{\n            'v': 4.8872352,\n            'f': \"4.8872352\",\n        },\n{\n            'v': 1728.742667,\n            'f': \"1728.742667\",\n        },\n\"Low\"],\n [{\n            'v': 176,\n            'f': \"176\",\n        },\n{\n            'v': 177,\n            'f': \"177\",\n        },\n\"Guinea-Bissau\",\n{\n            'v': 0.483,\n            'f': \"0.483\",\n        },\n{\n            'v': 59.6523,\n            'f': \"59.6523\",\n        },\n{\n            'v': 10.61306278,\n            'f': \"10.61306278\",\n        },\n{\n            'v': 3.583719,\n            'f': \"3.583719\",\n        },\n{\n            'v': 1908.24159,\n            'f': \"1908.24159\",\n        },\n\"Low\"],\n [{\n            'v': 177,\n            'f': \"177\",\n        },\n{\n            'v': 178,\n            'f': \"178\",\n        },\n\"Liberia\",\n{\n            'v': 0.481,\n            'f': \"0.481\",\n        },\n{\n            'v': 60.7472,\n            'f': \"60.7472\",\n        },\n{\n            'v': 10.42078972,\n            'f': \"10.42078972\",\n        },\n{\n            'v': 5.082,\n            'f': \"5.082\",\n        },\n{\n            'v': 1288.74235,\n            'f': \"1288.74235\",\n        },\n\"Low\"],\n [{\n            'v': 178,\n            'f': \"178\",\n        },\n{\n            'v': 179,\n            'f': \"179\",\n        },\n\"Congo (Democratic Republic of the)\",\n{\n            'v': 0.479,\n            'f': \"0.479\",\n        },\n{\n            'v': 59.193,\n            'f': \"59.193\",\n        },\n{\n            'v': 9.817864451,\n            'f': \"9.817864451\",\n        },\n{\n            'v': 7.018696516,\n            'f': \"7.018696516\",\n        },\n{\n            'v': 1076.098781,\n            'f': \"1076.098781\",\n        },\n\"Low\"],\n [{\n            'v': 179,\n            'f': \"179\",\n        },\n{\n            'v': 180,\n            'f': \"180\",\n        },\n\"Afghanistan\",\n{\n            'v': 0.478,\n            'f': \"0.478\",\n        },\n{\n            'v': 61.9824,\n            'f': \"61.9824\",\n        },\n{\n            'v': 10.26384398,\n            'f': \"10.26384398\",\n        },\n{\n            'v': 2.98506999,\n            'f': \"2.98506999\",\n        },\n{\n            'v': 1824.190915,\n            'f': \"1824.190915\",\n        },\n\"Low\"],\n [{\n            'v': 180,\n            'f': \"180\",\n        },\n{\n            'v': 181,\n            'f': \"181\",\n        },\n\"Sierra Leone\",\n{\n            'v': 0.477,\n            'f': \"0.477\",\n        },\n{\n            'v': 60.0624,\n            'f': \"60.0624\",\n        },\n{\n            'v': 9.57339109,\n            'f': \"9.57339109\",\n        },\n{\n            'v': 4.576081285,\n            'f': \"4.576081285\",\n        },\n{\n            'v': 1621.512579,\n            'f': \"1621.512579\",\n        },\n\"Low\"],\n [{\n            'v': 181,\n            'f': \"181\",\n        },\n{\n            'v': 182,\n            'f': \"182\",\n        },\n\"Guinea\",\n{\n            'v': 0.465,\n            'f': \"0.465\",\n        },\n{\n            'v': 58.8922,\n            'f': \"58.8922\",\n        },\n{\n            'v': 9.805297465,\n            'f': \"9.805297465\",\n        },\n{\n            'v': 2.202125952,\n            'f': \"2.202125952\",\n        },\n{\n            'v': 2480.887182,\n            'f': \"2480.887182\",\n        },\n\"Low\"],\n [{\n            'v': 182,\n            'f': \"182\",\n        },\n{\n            'v': 183,\n            'f': \"183\",\n        },\n\"Yemen\",\n{\n            'v': 0.455,\n            'f': \"0.455\",\n        },\n{\n            'v': 63.7534,\n            'f': \"63.7534\",\n        },\n{\n            'v': 9.09871006,\n            'f': \"9.09871006\",\n        },\n{\n            'v': 3.2,\n            'f': \"3.2\",\n        },\n{\n            'v': 1314.270189,\n            'f': \"1314.270189\",\n        },\n\"Low\"],\n [{\n            'v': 183,\n            'f': \"183\",\n        },\n{\n            'v': 184,\n            'f': \"184\",\n        },\n\"Burkina Faso\",\n{\n            'v': 0.449,\n            'f': \"0.449\",\n        },\n{\n            'v': 59.2696,\n            'f': \"59.2696\",\n        },\n{\n            'v': 9.142100334,\n            'f': \"9.142100334\",\n        },\n{\n            'v': 2.114962259,\n            'f': \"2.114962259\",\n        },\n{\n            'v': 2117.915916,\n            'f': \"2117.915916\",\n        },\n\"Low\"],\n [{\n            'v': 184,\n            'f': \"184\",\n        },\n{\n            'v': 185,\n            'f': \"185\",\n        },\n\"Mozambique\",\n{\n            'v': 0.446,\n            'f': \"0.446\",\n        },\n{\n            'v': 59.3247,\n            'f': \"59.3247\",\n        },\n{\n            'v': 10.2191516,\n            'f': \"10.2191516\",\n        },\n{\n            'v': 3.197641838,\n            'f': \"3.197641838\",\n        },\n{\n            'v': 1198.073924,\n            'f': \"1198.073924\",\n        },\n\"Low\"],\n [{\n            'v': 185,\n            'f': \"185\",\n        },\n{\n            'v': 186,\n            'f': \"186\",\n        },\n\"Mali\",\n{\n            'v': 0.428,\n            'f': \"0.428\",\n        },\n{\n            'v': 58.9414,\n            'f': \"58.9414\",\n        },\n{\n            'v': 7.423037617,\n            'f': \"7.423037617\",\n        },\n{\n            'v': 2.31,\n            'f': \"2.31\",\n        },\n{\n            'v': 2132.629443,\n            'f': \"2132.629443\",\n        },\n\"Low\"],\n [{\n            'v': 186,\n            'f': \"186\",\n        },\n{\n            'v': 187,\n            'f': \"187\",\n        },\n\"Burundi\",\n{\n            'v': 0.426,\n            'f': \"0.426\",\n        },\n{\n            'v': 61.6627,\n            'f': \"61.6627\",\n        },\n{\n            'v': 10.72272189,\n            'f': \"10.72272189\",\n        },\n{\n            'v': 3.129266883,\n            'f': \"3.129266883\",\n        },\n{\n            'v': 731.7867086,\n            'f': \"731.7867086\",\n        },\n\"Low\"],\n [{\n            'v': 187,\n            'f': \"187\",\n        },\n{\n            'v': 188,\n            'f': \"188\",\n        },\n\"Central African Republic\",\n{\n            'v': 0.404,\n            'f': \"0.404\",\n        },\n{\n            'v': 53.8947,\n            'f': \"53.8947\",\n        },\n{\n            'v': 8.040171714,\n            'f': \"8.040171714\",\n        },\n{\n            'v': 4.334,\n            'f': \"4.334\",\n        },\n{\n            'v': 966.0586107,\n            'f': \"966.0586107\",\n        },\n\"Low\"],\n [{\n            'v': 188,\n            'f': \"188\",\n        },\n{\n            'v': 189,\n            'f': \"189\",\n        },\n\"Niger\",\n{\n            'v': 0.4,\n            'f': \"0.4\",\n        },\n{\n            'v': 61.5763,\n            'f': \"61.5763\",\n        },\n{\n            'v': 6.957111988,\n            'f': \"6.957111988\",\n        },\n{\n            'v': 2.116717299,\n            'f': \"2.116717299\",\n        },\n{\n            'v': 1239.866936,\n            'f': \"1239.866936\",\n        },\n\"Low\"],\n [{\n            'v': 189,\n            'f': \"189\",\n        },\n{\n            'v': 190,\n            'f': \"190\",\n        },\n\"Chad\",\n{\n            'v': 0.394,\n            'f': \"0.394\",\n        },\n{\n            'v': 52.5254,\n            'f': \"52.5254\",\n        },\n{\n            'v': 8.035914334,\n            'f': \"8.035914334\",\n        },\n{\n            'v': 2.57377421,\n            'f': \"2.57377421\",\n        },\n{\n            'v': 1364.169417,\n            'f': \"1364.169417\",\n        },\n\"Low\"],\n [{\n            'v': 190,\n            'f': \"190\",\n        },\n{\n            'v': 191,\n            'f': \"191\",\n        },\n\"South Sudan\",\n{\n            'v': 0.385,\n            'f': \"0.385\",\n        },\n{\n            'v': 54.9752,\n            'f': \"54.9752\",\n        },\n{\n            'v': 5.54251,\n            'f': \"5.54251\",\n        },\n{\n            'v': 5.726140022,\n            'f': \"5.726140022\",\n        },\n{\n            'v': 767.787,\n            'f': \"767.787\",\n        },\n\"Low\"]],\n        columns: [[\"number\", \"index\"], [\"number\", \"HDI Rank\"], [\"string\", \"Country\"], [\"number\", \"HDI\"], [\"number\", \"Life expectancy at birth\"], [\"number\", \"Expected years of schooling\"], [\"number\", \"Mean years of schooling\"], [\"number\", \"Gross national income (GNI) per capita\"], [\"string\", \"Human Development\"]],\n        columnOptions: [{\"width\": \"1px\", \"className\": \"index_column\"}],\n        rowsPerPage: 25,\n        helpUrl: \"https://colab.research.google.com/notebooks/data_table.ipynb\",\n        suppressOutputScrolling: true,\n        minimumWidth: undefined,\n      });\n\n      function appendQuickchartButton(parentElement) {\n        let quickchartButtonContainerElement = document.createElement('div');\n        quickchartButtonContainerElement.innerHTML = `\n<div id=\"df-45f91f84-1ef0-4289-9106-adb731e16c3d\">\n  <button class=\"colab-df-quickchart\" onclick=\"quickchart('df-45f91f84-1ef0-4289-9106-adb731e16c3d')\"\n            title=\"Suggest charts\"\n            style=\"display:none;\">\n    \n<svg xmlns=\"http://www.w3.org/2000/svg\" height=\"24px\"viewBox=\"0 0 24 24\"\n     width=\"24px\">\n    <g>\n        <path d=\"M19 3H5c-1.1 0-2 .9-2 2v14c0 1.1.9 2 2 2h14c1.1 0 2-.9 2-2V5c0-1.1-.9-2-2-2zM9 17H7v-7h2v7zm4 0h-2V7h2v10zm4 0h-2v-4h2v4z\"/>\n    </g>\n</svg>\n  </button>\n  \n<style>\n  .colab-df-quickchart {\n      --bg-color: #E8F0FE;\n      --fill-color: #1967D2;\n      --hover-bg-color: #E2EBFA;\n      --hover-fill-color: #174EA6;\n      --disabled-fill-color: #AAA;\n      --disabled-bg-color: #DDD;\n  }\n\n  [theme=dark] .colab-df-quickchart {\n      --bg-color: #3B4455;\n      --fill-color: #D2E3FC;\n      --hover-bg-color: #434B5C;\n      --hover-fill-color: #FFFFFF;\n      --disabled-bg-color: #3B4455;\n      --disabled-fill-color: #666;\n  }\n\n  .colab-df-quickchart {\n    background-color: var(--bg-color);\n    border: none;\n    border-radius: 50%;\n    cursor: pointer;\n    display: none;\n    fill: var(--fill-color);\n    height: 32px;\n    padding: 0;\n    width: 32px;\n  }\n\n  .colab-df-quickchart:hover {\n    background-color: var(--hover-bg-color);\n    box-shadow: 0 1px 2px rgba(60, 64, 67, 0.3), 0 1px 3px 1px rgba(60, 64, 67, 0.15);\n    fill: var(--button-hover-fill-color);\n  }\n\n  .colab-df-quickchart-complete:disabled,\n  .colab-df-quickchart-complete:disabled:hover {\n    background-color: var(--disabled-bg-color);\n    fill: var(--disabled-fill-color);\n    box-shadow: none;\n  }\n\n  .colab-df-spinner {\n    border: 2px solid var(--fill-color);\n    border-color: transparent;\n    border-bottom-color: var(--fill-color);\n    animation:\n      spin 1s steps(1) infinite;\n  }\n\n  @keyframes spin {\n    0% {\n      border-color: transparent;\n      border-bottom-color: var(--fill-color);\n      border-left-color: var(--fill-color);\n    }\n    20% {\n      border-color: transparent;\n      border-left-color: var(--fill-color);\n      border-top-color: var(--fill-color);\n    }\n    30% {\n      border-color: transparent;\n      border-left-color: var(--fill-color);\n      border-top-color: var(--fill-color);\n      border-right-color: var(--fill-color);\n    }\n    40% {\n      border-color: transparent;\n      border-right-color: var(--fill-color);\n      border-top-color: var(--fill-color);\n    }\n    60% {\n      border-color: transparent;\n      border-right-color: var(--fill-color);\n    }\n    80% {\n      border-color: transparent;\n      border-right-color: var(--fill-color);\n      border-bottom-color: var(--fill-color);\n    }\n    90% {\n      border-color: transparent;\n      border-bottom-color: var(--fill-color);\n    }\n  }\n</style>\n\n  <script>\n    async function quickchart(key) {\n      const quickchartButtonEl =\n        document.querySelector('#' + key + ' button');\n      quickchartButtonEl.disabled = true;  // To prevent multiple clicks.\n      quickchartButtonEl.classList.add('colab-df-spinner');\n      try {\n        const charts = await google.colab.kernel.invokeFunction(\n            'suggestCharts', [key], {});\n      } catch (error) {\n        console.error('Error during call to suggestCharts:', error);\n      }\n      quickchartButtonEl.classList.remove('colab-df-spinner');\n      quickchartButtonEl.classList.add('colab-df-quickchart-complete');\n    }\n    (() => {\n      let quickchartButtonEl =\n        document.querySelector('#df-45f91f84-1ef0-4289-9106-adb731e16c3d button');\n      quickchartButtonEl.style.display =\n        google.colab.kernel.accessAllowed ? 'block' : 'none';\n    })();\n  </script>\n</div>`;\n        parentElement.appendChild(quickchartButtonContainerElement);\n      }\n\n      appendQuickchartButton(table);\n    "
          },
          "metadata": {},
          "execution_count": 29
        }
      ]
    },
    {
      "cell_type": "code",
      "source": [
        "hdi.columns"
      ],
      "metadata": {
        "colab": {
          "base_uri": "https://localhost:8080/"
        },
        "id": "roNFerebDJvA",
        "outputId": "87c81911-b1ed-43e7-a8ef-442b1c293426"
      },
      "execution_count": 30,
      "outputs": [
        {
          "output_type": "execute_result",
          "data": {
            "text/plain": [
              "Index(['HDI Rank', 'Country', 'HDI', 'Life expectancy at birth',\n",
              "       'Expected years of schooling', 'Mean years of schooling',\n",
              "       'Gross national income (GNI) per capita', 'Human Development'],\n",
              "      dtype='object')"
            ]
          },
          "metadata": {},
          "execution_count": 30
        }
      ]
    },
    {
      "cell_type": "markdown",
      "source": [
        "## 1. General discription of the dataset"
      ],
      "metadata": {
        "id": "J1uqQ-jW5byt"
      }
    },
    {
      "cell_type": "code",
      "source": [
        "print(hdi.head())"
      ],
      "metadata": {
        "colab": {
          "base_uri": "https://localhost:8080/"
        },
        "id": "xxkXOJoS5nzi",
        "outputId": "07250f47-0ad9-4ccf-be3f-63fb0e48f2dd"
      },
      "execution_count": 31,
      "outputs": [
        {
          "output_type": "stream",
          "name": "stdout",
          "text": [
            "   HDI Rank                 Country    HDI  Life expectancy at birth  \\\n",
            "0         1             Switzerland  0.962                   83.9872   \n",
            "1         2                  Norway  0.961                   83.2339   \n",
            "2         3                 Iceland  0.959                   82.6782   \n",
            "3         4  Hong Kong, China (SAR)  0.952                   85.4734   \n",
            "4         5               Australia  0.951                   84.5265   \n",
            "\n",
            "   Expected years of schooling  Mean years of schooling  \\\n",
            "0                    16.500299                 13.85966   \n",
            "1                    18.185200                 13.00363   \n",
            "2                    19.163059                 13.76717   \n",
            "3                    17.278170                 12.22621   \n",
            "4                    21.054590                 12.72682   \n",
            "\n",
            "   Gross national income (GNI) per capita Human Development  \n",
            "0                             66933.00454         Very High  \n",
            "1                             64660.10622         Very High  \n",
            "2                             55782.04981         Very High  \n",
            "3                             62606.84540         Very High  \n",
            "4                             49238.43335         Very High  \n"
          ]
        }
      ]
    },
    {
      "cell_type": "code",
      "source": [
        "print(hdi.info())"
      ],
      "metadata": {
        "colab": {
          "base_uri": "https://localhost:8080/"
        },
        "id": "Gw1r8Bhl52e5",
        "outputId": "3d64014f-7315-47b9-9ed4-a2f778852ad8"
      },
      "execution_count": 32,
      "outputs": [
        {
          "output_type": "stream",
          "name": "stdout",
          "text": [
            "<class 'pandas.core.frame.DataFrame'>\n",
            "RangeIndex: 191 entries, 0 to 190\n",
            "Data columns (total 8 columns):\n",
            " #   Column                                  Non-Null Count  Dtype  \n",
            "---  ------                                  --------------  -----  \n",
            " 0   HDI Rank                                191 non-null    int64  \n",
            " 1   Country                                 191 non-null    object \n",
            " 2   HDI                                     191 non-null    float64\n",
            " 3   Life expectancy at birth                191 non-null    float64\n",
            " 4   Expected years of schooling             191 non-null    float64\n",
            " 5   Mean years of schooling                 191 non-null    float64\n",
            " 6   Gross national income (GNI) per capita  191 non-null    float64\n",
            " 7   Human Development                       191 non-null    object \n",
            "dtypes: float64(5), int64(1), object(2)\n",
            "memory usage: 12.1+ KB\n",
            "None\n"
          ]
        }
      ]
    },
    {
      "cell_type": "code",
      "source": [
        "print(hdi.describe())"
      ],
      "metadata": {
        "colab": {
          "base_uri": "https://localhost:8080/"
        },
        "id": "4y3dXeNS5_K7",
        "outputId": "e93b1fff-b82e-4466-8c18-f03d4fd5c6c0"
      },
      "execution_count": 33,
      "outputs": [
        {
          "output_type": "stream",
          "name": "stdout",
          "text": [
            "         HDI Rank         HDI  Life expectancy at birth  \\\n",
            "count  191.000000  191.000000                 191.00000   \n",
            "mean    95.811518    0.720576                  71.31286   \n",
            "std     55.307333    0.150661                   7.64596   \n",
            "min      1.000000    0.385000                  52.52540   \n",
            "25%     48.500000    0.599500                  65.74720   \n",
            "50%     96.000000    0.739000                  71.69400   \n",
            "75%    143.500000    0.835000                  76.69930   \n",
            "max    191.000000    0.962000                  85.47340   \n",
            "\n",
            "       Expected years of schooling  Mean years of schooling  \\\n",
            "count                   191.000000               191.000000   \n",
            "mean                     13.534658                 8.986916   \n",
            "std                       2.923911                 3.173693   \n",
            "min                       5.542510                 2.114962   \n",
            "25%                      11.601258                 6.251659   \n",
            "50%                      13.404920                 9.306864   \n",
            "75%                      15.623665                11.497702   \n",
            "max                      21.054590                14.090967   \n",
            "\n",
            "       Gross national income (GNI) per capita  \n",
            "count                              191.000000  \n",
            "mean                             20249.088223  \n",
            "std                              21825.277076  \n",
            "min                                731.786709  \n",
            "25%                               4592.919612  \n",
            "50%                              12306.341000  \n",
            "75%                              30079.789725  \n",
            "max                             146829.700600  \n"
          ]
        }
      ]
    },
    {
      "cell_type": "code",
      "source": [
        "print(hdi.shape)"
      ],
      "metadata": {
        "colab": {
          "base_uri": "https://localhost:8080/"
        },
        "id": "2SFRZqFP6brS",
        "outputId": "a3a5e84a-0f8d-4fa8-acda-ce8772e6b067"
      },
      "execution_count": 34,
      "outputs": [
        {
          "output_type": "stream",
          "name": "stdout",
          "text": [
            "(191, 8)\n"
          ]
        }
      ]
    },
    {
      "cell_type": "code",
      "source": [
        "best_hdi = hdi[hdi['HDI Rank'] == hdi['HDI Rank'].min()][['Country', 'HDI Rank']]\n",
        "worst_hdi = hdi[hdi['HDI Rank'] == hdi['HDI Rank'].max()][['Country', 'HDI Rank']]\n",
        "best_hdi\n",
        "worst_hdi"
      ],
      "metadata": {
        "colab": {
          "base_uri": "https://localhost:8080/",
          "height": 262
        },
        "id": "KSDjB7KM6mnY",
        "outputId": "8f8aad33-9ad8-451a-a143-ffd72d13e496"
      },
      "execution_count": 35,
      "outputs": [
        {
          "output_type": "execute_result",
          "data": {
            "text/plain": [
              "       Country  HDI Rank\n",
              "0  Switzerland         1"
            ],
            "text/html": [
              "\n",
              "  <div id=\"df-2470dcfc-eaee-4446-84cb-5702438a0f5d\" class=\"colab-df-container\">\n",
              "    <div>\n",
              "<style scoped>\n",
              "    .dataframe tbody tr th:only-of-type {\n",
              "        vertical-align: middle;\n",
              "    }\n",
              "\n",
              "    .dataframe tbody tr th {\n",
              "        vertical-align: top;\n",
              "    }\n",
              "\n",
              "    .dataframe thead th {\n",
              "        text-align: right;\n",
              "    }\n",
              "</style>\n",
              "<table border=\"1\" class=\"dataframe\">\n",
              "  <thead>\n",
              "    <tr style=\"text-align: right;\">\n",
              "      <th></th>\n",
              "      <th>Country</th>\n",
              "      <th>HDI Rank</th>\n",
              "    </tr>\n",
              "  </thead>\n",
              "  <tbody>\n",
              "    <tr>\n",
              "      <th>0</th>\n",
              "      <td>Switzerland</td>\n",
              "      <td>1</td>\n",
              "    </tr>\n",
              "  </tbody>\n",
              "</table>\n",
              "</div>\n",
              "    <div class=\"colab-df-buttons\">\n",
              "\n",
              "  <div class=\"colab-df-container\">\n",
              "    <button class=\"colab-df-convert\" onclick=\"convertToInteractive('df-2470dcfc-eaee-4446-84cb-5702438a0f5d')\"\n",
              "            title=\"Convert this dataframe to an interactive table.\"\n",
              "            style=\"display:none;\">\n",
              "\n",
              "  <svg xmlns=\"http://www.w3.org/2000/svg\" height=\"24px\" viewBox=\"0 -960 960 960\">\n",
              "    <path d=\"M120-120v-720h720v720H120Zm60-500h600v-160H180v160Zm220 220h160v-160H400v160Zm0 220h160v-160H400v160ZM180-400h160v-160H180v160Zm440 0h160v-160H620v160ZM180-180h160v-160H180v160Zm440 0h160v-160H620v160Z\"/>\n",
              "  </svg>\n",
              "    </button>\n",
              "\n",
              "  <style>\n",
              "    .colab-df-container {\n",
              "      display:flex;\n",
              "      gap: 12px;\n",
              "    }\n",
              "\n",
              "    .colab-df-convert {\n",
              "      background-color: #E8F0FE;\n",
              "      border: none;\n",
              "      border-radius: 50%;\n",
              "      cursor: pointer;\n",
              "      display: none;\n",
              "      fill: #1967D2;\n",
              "      height: 32px;\n",
              "      padding: 0 0 0 0;\n",
              "      width: 32px;\n",
              "    }\n",
              "\n",
              "    .colab-df-convert:hover {\n",
              "      background-color: #E2EBFA;\n",
              "      box-shadow: 0px 1px 2px rgba(60, 64, 67, 0.3), 0px 1px 3px 1px rgba(60, 64, 67, 0.15);\n",
              "      fill: #174EA6;\n",
              "    }\n",
              "\n",
              "    .colab-df-buttons div {\n",
              "      margin-bottom: 4px;\n",
              "    }\n",
              "\n",
              "    [theme=dark] .colab-df-convert {\n",
              "      background-color: #3B4455;\n",
              "      fill: #D2E3FC;\n",
              "    }\n",
              "\n",
              "    [theme=dark] .colab-df-convert:hover {\n",
              "      background-color: #434B5C;\n",
              "      box-shadow: 0px 1px 3px 1px rgba(0, 0, 0, 0.15);\n",
              "      filter: drop-shadow(0px 1px 2px rgba(0, 0, 0, 0.3));\n",
              "      fill: #FFFFFF;\n",
              "    }\n",
              "  </style>\n",
              "\n",
              "    <script>\n",
              "      const buttonEl =\n",
              "        document.querySelector('#df-2470dcfc-eaee-4446-84cb-5702438a0f5d button.colab-df-convert');\n",
              "      buttonEl.style.display =\n",
              "        google.colab.kernel.accessAllowed ? 'block' : 'none';\n",
              "\n",
              "      async function convertToInteractive(key) {\n",
              "        const element = document.querySelector('#df-2470dcfc-eaee-4446-84cb-5702438a0f5d');\n",
              "        const dataTable =\n",
              "          await google.colab.kernel.invokeFunction('convertToInteractive',\n",
              "                                                    [key], {});\n",
              "        if (!dataTable) return;\n",
              "\n",
              "        const docLinkHtml = 'Like what you see? Visit the ' +\n",
              "          '<a target=\"_blank\" href=https://colab.research.google.com/notebooks/data_table.ipynb>data table notebook</a>'\n",
              "          + ' to learn more about interactive tables.';\n",
              "        element.innerHTML = '';\n",
              "        dataTable['output_type'] = 'display_data';\n",
              "        await google.colab.output.renderOutput(dataTable, element);\n",
              "        const docLink = document.createElement('div');\n",
              "        docLink.innerHTML = docLinkHtml;\n",
              "        element.appendChild(docLink);\n",
              "      }\n",
              "    </script>\n",
              "  </div>\n",
              "\n",
              "    </div>\n",
              "  </div>\n"
            ],
            "application/vnd.google.colaboratory.module+javascript": "\n      import \"https://ssl.gstatic.com/colaboratory/data_table/881c4a0d49046431/data_table.js\";\n\n      const table = window.createDataTable({\n        data: [[{\n            'v': 0,\n            'f': \"0\",\n        },\n\"Switzerland\",\n{\n            'v': 1,\n            'f': \"1\",\n        }]],\n        columns: [[\"number\", \"index\"], [\"string\", \"Country\"], [\"number\", \"HDI Rank\"]],\n        columnOptions: [{\"width\": \"1px\", \"className\": \"index_column\"}],\n        rowsPerPage: 25,\n        helpUrl: \"https://colab.research.google.com/notebooks/data_table.ipynb\",\n        suppressOutputScrolling: true,\n        minimumWidth: undefined,\n      });\n\n      function appendQuickchartButton(parentElement) {\n        let quickchartButtonContainerElement = document.createElement('div');\n        quickchartButtonContainerElement.innerHTML = `\n<div id=\"df-417ec689-02d7-4056-bbae-a7686099f6e4\">\n  <button class=\"colab-df-quickchart\" onclick=\"quickchart('df-417ec689-02d7-4056-bbae-a7686099f6e4')\"\n            title=\"Suggest charts\"\n            style=\"display:none;\">\n    \n<svg xmlns=\"http://www.w3.org/2000/svg\" height=\"24px\"viewBox=\"0 0 24 24\"\n     width=\"24px\">\n    <g>\n        <path d=\"M19 3H5c-1.1 0-2 .9-2 2v14c0 1.1.9 2 2 2h14c1.1 0 2-.9 2-2V5c0-1.1-.9-2-2-2zM9 17H7v-7h2v7zm4 0h-2V7h2v10zm4 0h-2v-4h2v4z\"/>\n    </g>\n</svg>\n  </button>\n  \n<style>\n  .colab-df-quickchart {\n      --bg-color: #E8F0FE;\n      --fill-color: #1967D2;\n      --hover-bg-color: #E2EBFA;\n      --hover-fill-color: #174EA6;\n      --disabled-fill-color: #AAA;\n      --disabled-bg-color: #DDD;\n  }\n\n  [theme=dark] .colab-df-quickchart {\n      --bg-color: #3B4455;\n      --fill-color: #D2E3FC;\n      --hover-bg-color: #434B5C;\n      --hover-fill-color: #FFFFFF;\n      --disabled-bg-color: #3B4455;\n      --disabled-fill-color: #666;\n  }\n\n  .colab-df-quickchart {\n    background-color: var(--bg-color);\n    border: none;\n    border-radius: 50%;\n    cursor: pointer;\n    display: none;\n    fill: var(--fill-color);\n    height: 32px;\n    padding: 0;\n    width: 32px;\n  }\n\n  .colab-df-quickchart:hover {\n    background-color: var(--hover-bg-color);\n    box-shadow: 0 1px 2px rgba(60, 64, 67, 0.3), 0 1px 3px 1px rgba(60, 64, 67, 0.15);\n    fill: var(--button-hover-fill-color);\n  }\n\n  .colab-df-quickchart-complete:disabled,\n  .colab-df-quickchart-complete:disabled:hover {\n    background-color: var(--disabled-bg-color);\n    fill: var(--disabled-fill-color);\n    box-shadow: none;\n  }\n\n  .colab-df-spinner {\n    border: 2px solid var(--fill-color);\n    border-color: transparent;\n    border-bottom-color: var(--fill-color);\n    animation:\n      spin 1s steps(1) infinite;\n  }\n\n  @keyframes spin {\n    0% {\n      border-color: transparent;\n      border-bottom-color: var(--fill-color);\n      border-left-color: var(--fill-color);\n    }\n    20% {\n      border-color: transparent;\n      border-left-color: var(--fill-color);\n      border-top-color: var(--fill-color);\n    }\n    30% {\n      border-color: transparent;\n      border-left-color: var(--fill-color);\n      border-top-color: var(--fill-color);\n      border-right-color: var(--fill-color);\n    }\n    40% {\n      border-color: transparent;\n      border-right-color: var(--fill-color);\n      border-top-color: var(--fill-color);\n    }\n    60% {\n      border-color: transparent;\n      border-right-color: var(--fill-color);\n    }\n    80% {\n      border-color: transparent;\n      border-right-color: var(--fill-color);\n      border-bottom-color: var(--fill-color);\n    }\n    90% {\n      border-color: transparent;\n      border-bottom-color: var(--fill-color);\n    }\n  }\n</style>\n\n  <script>\n    async function quickchart(key) {\n      const quickchartButtonEl =\n        document.querySelector('#' + key + ' button');\n      quickchartButtonEl.disabled = true;  // To prevent multiple clicks.\n      quickchartButtonEl.classList.add('colab-df-spinner');\n      try {\n        const charts = await google.colab.kernel.invokeFunction(\n            'suggestCharts', [key], {});\n      } catch (error) {\n        console.error('Error during call to suggestCharts:', error);\n      }\n      quickchartButtonEl.classList.remove('colab-df-spinner');\n      quickchartButtonEl.classList.add('colab-df-quickchart-complete');\n    }\n    (() => {\n      let quickchartButtonEl =\n        document.querySelector('#df-417ec689-02d7-4056-bbae-a7686099f6e4 button');\n      quickchartButtonEl.style.display =\n        google.colab.kernel.accessAllowed ? 'block' : 'none';\n    })();\n  </script>\n</div>`;\n        parentElement.appendChild(quickchartButtonContainerElement);\n      }\n\n      appendQuickchartButton(table);\n    "
          },
          "metadata": {},
          "execution_count": 35
        },
        {
          "output_type": "execute_result",
          "data": {
            "text/plain": [
              "         Country  HDI Rank\n",
              "190  South Sudan       191"
            ],
            "text/html": [
              "\n",
              "  <div id=\"df-f255eda9-1952-45c0-ad89-b6f0ee251fab\" class=\"colab-df-container\">\n",
              "    <div>\n",
              "<style scoped>\n",
              "    .dataframe tbody tr th:only-of-type {\n",
              "        vertical-align: middle;\n",
              "    }\n",
              "\n",
              "    .dataframe tbody tr th {\n",
              "        vertical-align: top;\n",
              "    }\n",
              "\n",
              "    .dataframe thead th {\n",
              "        text-align: right;\n",
              "    }\n",
              "</style>\n",
              "<table border=\"1\" class=\"dataframe\">\n",
              "  <thead>\n",
              "    <tr style=\"text-align: right;\">\n",
              "      <th></th>\n",
              "      <th>Country</th>\n",
              "      <th>HDI Rank</th>\n",
              "    </tr>\n",
              "  </thead>\n",
              "  <tbody>\n",
              "    <tr>\n",
              "      <th>190</th>\n",
              "      <td>South Sudan</td>\n",
              "      <td>191</td>\n",
              "    </tr>\n",
              "  </tbody>\n",
              "</table>\n",
              "</div>\n",
              "    <div class=\"colab-df-buttons\">\n",
              "\n",
              "  <div class=\"colab-df-container\">\n",
              "    <button class=\"colab-df-convert\" onclick=\"convertToInteractive('df-f255eda9-1952-45c0-ad89-b6f0ee251fab')\"\n",
              "            title=\"Convert this dataframe to an interactive table.\"\n",
              "            style=\"display:none;\">\n",
              "\n",
              "  <svg xmlns=\"http://www.w3.org/2000/svg\" height=\"24px\" viewBox=\"0 -960 960 960\">\n",
              "    <path d=\"M120-120v-720h720v720H120Zm60-500h600v-160H180v160Zm220 220h160v-160H400v160Zm0 220h160v-160H400v160ZM180-400h160v-160H180v160Zm440 0h160v-160H620v160ZM180-180h160v-160H180v160Zm440 0h160v-160H620v160Z\"/>\n",
              "  </svg>\n",
              "    </button>\n",
              "\n",
              "  <style>\n",
              "    .colab-df-container {\n",
              "      display:flex;\n",
              "      gap: 12px;\n",
              "    }\n",
              "\n",
              "    .colab-df-convert {\n",
              "      background-color: #E8F0FE;\n",
              "      border: none;\n",
              "      border-radius: 50%;\n",
              "      cursor: pointer;\n",
              "      display: none;\n",
              "      fill: #1967D2;\n",
              "      height: 32px;\n",
              "      padding: 0 0 0 0;\n",
              "      width: 32px;\n",
              "    }\n",
              "\n",
              "    .colab-df-convert:hover {\n",
              "      background-color: #E2EBFA;\n",
              "      box-shadow: 0px 1px 2px rgba(60, 64, 67, 0.3), 0px 1px 3px 1px rgba(60, 64, 67, 0.15);\n",
              "      fill: #174EA6;\n",
              "    }\n",
              "\n",
              "    .colab-df-buttons div {\n",
              "      margin-bottom: 4px;\n",
              "    }\n",
              "\n",
              "    [theme=dark] .colab-df-convert {\n",
              "      background-color: #3B4455;\n",
              "      fill: #D2E3FC;\n",
              "    }\n",
              "\n",
              "    [theme=dark] .colab-df-convert:hover {\n",
              "      background-color: #434B5C;\n",
              "      box-shadow: 0px 1px 3px 1px rgba(0, 0, 0, 0.15);\n",
              "      filter: drop-shadow(0px 1px 2px rgba(0, 0, 0, 0.3));\n",
              "      fill: #FFFFFF;\n",
              "    }\n",
              "  </style>\n",
              "\n",
              "    <script>\n",
              "      const buttonEl =\n",
              "        document.querySelector('#df-f255eda9-1952-45c0-ad89-b6f0ee251fab button.colab-df-convert');\n",
              "      buttonEl.style.display =\n",
              "        google.colab.kernel.accessAllowed ? 'block' : 'none';\n",
              "\n",
              "      async function convertToInteractive(key) {\n",
              "        const element = document.querySelector('#df-f255eda9-1952-45c0-ad89-b6f0ee251fab');\n",
              "        const dataTable =\n",
              "          await google.colab.kernel.invokeFunction('convertToInteractive',\n",
              "                                                    [key], {});\n",
              "        if (!dataTable) return;\n",
              "\n",
              "        const docLinkHtml = 'Like what you see? Visit the ' +\n",
              "          '<a target=\"_blank\" href=https://colab.research.google.com/notebooks/data_table.ipynb>data table notebook</a>'\n",
              "          + ' to learn more about interactive tables.';\n",
              "        element.innerHTML = '';\n",
              "        dataTable['output_type'] = 'display_data';\n",
              "        await google.colab.output.renderOutput(dataTable, element);\n",
              "        const docLink = document.createElement('div');\n",
              "        docLink.innerHTML = docLinkHtml;\n",
              "        element.appendChild(docLink);\n",
              "      }\n",
              "    </script>\n",
              "  </div>\n",
              "\n",
              "    </div>\n",
              "  </div>\n"
            ],
            "application/vnd.google.colaboratory.module+javascript": "\n      import \"https://ssl.gstatic.com/colaboratory/data_table/881c4a0d49046431/data_table.js\";\n\n      const table = window.createDataTable({\n        data: [[{\n            'v': 190,\n            'f': \"190\",\n        },\n\"South Sudan\",\n{\n            'v': 191,\n            'f': \"191\",\n        }]],\n        columns: [[\"number\", \"index\"], [\"string\", \"Country\"], [\"number\", \"HDI Rank\"]],\n        columnOptions: [{\"width\": \"1px\", \"className\": \"index_column\"}],\n        rowsPerPage: 25,\n        helpUrl: \"https://colab.research.google.com/notebooks/data_table.ipynb\",\n        suppressOutputScrolling: true,\n        minimumWidth: undefined,\n      });\n\n      function appendQuickchartButton(parentElement) {\n        let quickchartButtonContainerElement = document.createElement('div');\n        quickchartButtonContainerElement.innerHTML = `\n<div id=\"df-42cd7d1a-6b1e-4751-9195-6e7046b6ab5a\">\n  <button class=\"colab-df-quickchart\" onclick=\"quickchart('df-42cd7d1a-6b1e-4751-9195-6e7046b6ab5a')\"\n            title=\"Suggest charts\"\n            style=\"display:none;\">\n    \n<svg xmlns=\"http://www.w3.org/2000/svg\" height=\"24px\"viewBox=\"0 0 24 24\"\n     width=\"24px\">\n    <g>\n        <path d=\"M19 3H5c-1.1 0-2 .9-2 2v14c0 1.1.9 2 2 2h14c1.1 0 2-.9 2-2V5c0-1.1-.9-2-2-2zM9 17H7v-7h2v7zm4 0h-2V7h2v10zm4 0h-2v-4h2v4z\"/>\n    </g>\n</svg>\n  </button>\n  \n<style>\n  .colab-df-quickchart {\n      --bg-color: #E8F0FE;\n      --fill-color: #1967D2;\n      --hover-bg-color: #E2EBFA;\n      --hover-fill-color: #174EA6;\n      --disabled-fill-color: #AAA;\n      --disabled-bg-color: #DDD;\n  }\n\n  [theme=dark] .colab-df-quickchart {\n      --bg-color: #3B4455;\n      --fill-color: #D2E3FC;\n      --hover-bg-color: #434B5C;\n      --hover-fill-color: #FFFFFF;\n      --disabled-bg-color: #3B4455;\n      --disabled-fill-color: #666;\n  }\n\n  .colab-df-quickchart {\n    background-color: var(--bg-color);\n    border: none;\n    border-radius: 50%;\n    cursor: pointer;\n    display: none;\n    fill: var(--fill-color);\n    height: 32px;\n    padding: 0;\n    width: 32px;\n  }\n\n  .colab-df-quickchart:hover {\n    background-color: var(--hover-bg-color);\n    box-shadow: 0 1px 2px rgba(60, 64, 67, 0.3), 0 1px 3px 1px rgba(60, 64, 67, 0.15);\n    fill: var(--button-hover-fill-color);\n  }\n\n  .colab-df-quickchart-complete:disabled,\n  .colab-df-quickchart-complete:disabled:hover {\n    background-color: var(--disabled-bg-color);\n    fill: var(--disabled-fill-color);\n    box-shadow: none;\n  }\n\n  .colab-df-spinner {\n    border: 2px solid var(--fill-color);\n    border-color: transparent;\n    border-bottom-color: var(--fill-color);\n    animation:\n      spin 1s steps(1) infinite;\n  }\n\n  @keyframes spin {\n    0% {\n      border-color: transparent;\n      border-bottom-color: var(--fill-color);\n      border-left-color: var(--fill-color);\n    }\n    20% {\n      border-color: transparent;\n      border-left-color: var(--fill-color);\n      border-top-color: var(--fill-color);\n    }\n    30% {\n      border-color: transparent;\n      border-left-color: var(--fill-color);\n      border-top-color: var(--fill-color);\n      border-right-color: var(--fill-color);\n    }\n    40% {\n      border-color: transparent;\n      border-right-color: var(--fill-color);\n      border-top-color: var(--fill-color);\n    }\n    60% {\n      border-color: transparent;\n      border-right-color: var(--fill-color);\n    }\n    80% {\n      border-color: transparent;\n      border-right-color: var(--fill-color);\n      border-bottom-color: var(--fill-color);\n    }\n    90% {\n      border-color: transparent;\n      border-bottom-color: var(--fill-color);\n    }\n  }\n</style>\n\n  <script>\n    async function quickchart(key) {\n      const quickchartButtonEl =\n        document.querySelector('#' + key + ' button');\n      quickchartButtonEl.disabled = true;  // To prevent multiple clicks.\n      quickchartButtonEl.classList.add('colab-df-spinner');\n      try {\n        const charts = await google.colab.kernel.invokeFunction(\n            'suggestCharts', [key], {});\n      } catch (error) {\n        console.error('Error during call to suggestCharts:', error);\n      }\n      quickchartButtonEl.classList.remove('colab-df-spinner');\n      quickchartButtonEl.classList.add('colab-df-quickchart-complete');\n    }\n    (() => {\n      let quickchartButtonEl =\n        document.querySelector('#df-42cd7d1a-6b1e-4751-9195-6e7046b6ab5a button');\n      quickchartButtonEl.style.display =\n        google.colab.kernel.accessAllowed ? 'block' : 'none';\n    })();\n  </script>\n</div>`;\n        parentElement.appendChild(quickchartButtonContainerElement);\n      }\n\n      appendQuickchartButton(table);\n    "
          },
          "metadata": {},
          "execution_count": 35
        }
      ]
    },
    {
      "cell_type": "markdown",
      "source": [
        "## 2. Data analyze"
      ],
      "metadata": {
        "id": "jMesm7lF_O_Y"
      }
    },
    {
      "cell_type": "markdown",
      "source": [
        "### Standard deviations"
      ],
      "metadata": {
        "id": "ElOAyAUN_S8V"
      }
    },
    {
      "cell_type": "code",
      "source": [
        "variables = ['Life expectancy at birth', 'Expected years of schooling', 'Mean years of schooling', 'Gross national income (GNI) per capita']"
      ],
      "metadata": {
        "id": "_RgYhAGe_dg-"
      },
      "execution_count": 36,
      "outputs": []
    },
    {
      "cell_type": "code",
      "source": [
        "std_dev = hdi[variables].std()"
      ],
      "metadata": {
        "id": "49aD7Gds_RtN"
      },
      "execution_count": 37,
      "outputs": []
    },
    {
      "cell_type": "code",
      "source": [
        "print(std_dev)"
      ],
      "metadata": {
        "colab": {
          "base_uri": "https://localhost:8080/"
        },
        "id": "GMN2rjP-A3eS",
        "outputId": "3aeb4c2d-0e7b-4500-9c1d-f60c3ba95d5c"
      },
      "execution_count": 38,
      "outputs": [
        {
          "output_type": "stream",
          "name": "stdout",
          "text": [
            "Life expectancy at birth                      7.645960\n",
            "Expected years of schooling                   2.923911\n",
            "Mean years of schooling                       3.173693\n",
            "Gross national income (GNI) per capita    21825.277076\n",
            "dtype: float64\n"
          ]
        }
      ]
    },
    {
      "cell_type": "markdown",
      "source": [
        "### Correlations"
      ],
      "metadata": {
        "id": "AYAH4wdXBh95"
      }
    },
    {
      "cell_type": "code",
      "source": [
        "corr_hdi=hdi.select_dtypes(include=[np.number])"
      ],
      "metadata": {
        "id": "SKjLMtwlBsoE"
      },
      "execution_count": 39,
      "outputs": []
    },
    {
      "cell_type": "code",
      "source": [
        "corr=corr_hdi.corr()['HDI'].drop('HDI')\n",
        "print(corr)"
      ],
      "metadata": {
        "colab": {
          "base_uri": "https://localhost:8080/"
        },
        "id": "pl7JOcxhChKq",
        "outputId": "c622e56c-9a45-4d28-b575-64c5fbaf58e1"
      },
      "execution_count": 44,
      "outputs": [
        {
          "output_type": "stream",
          "name": "stdout",
          "text": [
            "HDI Rank                                 -0.992091\n",
            "Life expectancy at birth                  0.905964\n",
            "Expected years of schooling               0.895600\n",
            "Mean years of schooling                   0.909126\n",
            "Gross national income (GNI) per capita    0.788036\n",
            "Name: HDI, dtype: float64\n"
          ]
        }
      ]
    },
    {
      "cell_type": "markdown",
      "source": [
        "### OLS Model"
      ],
      "metadata": {
        "id": "hn7NoFjzFjPT"
      }
    },
    {
      "cell_type": "code",
      "source": [
        "import statsmodels.api as sm"
      ],
      "metadata": {
        "id": "a4IztTFLGktb"
      },
      "execution_count": 48,
      "outputs": []
    },
    {
      "cell_type": "code",
      "source": [
        "dependent = 'HDI'\n",
        "independent = ['Life expectancy at birth', 'Expected years of schooling', 'Mean years of schooling',\n",
        "                    'Gross national income (GNI) per capita']"
      ],
      "metadata": {
        "id": "Tjk4QMVdFlSt"
      },
      "execution_count": 56,
      "outputs": []
    },
    {
      "cell_type": "code",
      "source": [
        "x = hdi['dependent']\n",
        "y = hdi['independent']\n",
        "x = sm.add_constant(x)\n",
        "result = sm.OLS(y, x).fit()\n",
        "print(result.summary())"
      ],
      "metadata": {
        "colab": {
          "base_uri": "https://localhost:8080/",
          "height": 527
        },
        "id": "XVwU0kzTGDXf",
        "outputId": "e3d78bff-763c-44fd-ac5d-798f82ffa5a4"
      },
      "execution_count": 57,
      "outputs": [
        {
          "output_type": "error",
          "ename": "KeyError",
          "evalue": "ignored",
          "traceback": [
            "\u001b[0;31m---------------------------------------------------------------------------\u001b[0m",
            "\u001b[0;31mKeyError\u001b[0m                                  Traceback (most recent call last)",
            "\u001b[0;32m/usr/local/lib/python3.10/dist-packages/pandas/core/indexes/base.py\u001b[0m in \u001b[0;36mget_loc\u001b[0;34m(self, key, method, tolerance)\u001b[0m\n\u001b[1;32m   3801\u001b[0m             \u001b[0;32mtry\u001b[0m\u001b[0;34m:\u001b[0m\u001b[0;34m\u001b[0m\u001b[0;34m\u001b[0m\u001b[0m\n\u001b[0;32m-> 3802\u001b[0;31m                 \u001b[0;32mreturn\u001b[0m \u001b[0mself\u001b[0m\u001b[0;34m.\u001b[0m\u001b[0m_engine\u001b[0m\u001b[0;34m.\u001b[0m\u001b[0mget_loc\u001b[0m\u001b[0;34m(\u001b[0m\u001b[0mcasted_key\u001b[0m\u001b[0;34m)\u001b[0m\u001b[0;34m\u001b[0m\u001b[0;34m\u001b[0m\u001b[0m\n\u001b[0m\u001b[1;32m   3803\u001b[0m             \u001b[0;32mexcept\u001b[0m \u001b[0mKeyError\u001b[0m \u001b[0;32mas\u001b[0m \u001b[0merr\u001b[0m\u001b[0;34m:\u001b[0m\u001b[0;34m\u001b[0m\u001b[0;34m\u001b[0m\u001b[0m\n",
            "\u001b[0;32m/usr/local/lib/python3.10/dist-packages/pandas/_libs/index.pyx\u001b[0m in \u001b[0;36mpandas._libs.index.IndexEngine.get_loc\u001b[0;34m()\u001b[0m\n",
            "\u001b[0;32m/usr/local/lib/python3.10/dist-packages/pandas/_libs/index.pyx\u001b[0m in \u001b[0;36mpandas._libs.index.IndexEngine.get_loc\u001b[0;34m()\u001b[0m\n",
            "\u001b[0;32mpandas/_libs/hashtable_class_helper.pxi\u001b[0m in \u001b[0;36mpandas._libs.hashtable.PyObjectHashTable.get_item\u001b[0;34m()\u001b[0m\n",
            "\u001b[0;32mpandas/_libs/hashtable_class_helper.pxi\u001b[0m in \u001b[0;36mpandas._libs.hashtable.PyObjectHashTable.get_item\u001b[0;34m()\u001b[0m\n",
            "\u001b[0;31mKeyError\u001b[0m: 'dependent'",
            "\nThe above exception was the direct cause of the following exception:\n",
            "\u001b[0;31mKeyError\u001b[0m                                  Traceback (most recent call last)",
            "\u001b[0;32m<ipython-input-57-b38b37861fd7>\u001b[0m in \u001b[0;36m<cell line: 1>\u001b[0;34m()\u001b[0m\n\u001b[0;32m----> 1\u001b[0;31m \u001b[0mx\u001b[0m \u001b[0;34m=\u001b[0m \u001b[0mhdi\u001b[0m\u001b[0;34m[\u001b[0m\u001b[0;34m'dependent'\u001b[0m\u001b[0;34m]\u001b[0m\u001b[0;34m\u001b[0m\u001b[0;34m\u001b[0m\u001b[0m\n\u001b[0m\u001b[1;32m      2\u001b[0m \u001b[0my\u001b[0m \u001b[0;34m=\u001b[0m \u001b[0mhdi\u001b[0m\u001b[0;34m[\u001b[0m\u001b[0;34m'independent'\u001b[0m\u001b[0;34m]\u001b[0m\u001b[0;34m\u001b[0m\u001b[0;34m\u001b[0m\u001b[0m\n\u001b[1;32m      3\u001b[0m \u001b[0mx\u001b[0m \u001b[0;34m=\u001b[0m \u001b[0msm\u001b[0m\u001b[0;34m.\u001b[0m\u001b[0madd_constant\u001b[0m\u001b[0;34m(\u001b[0m\u001b[0mx\u001b[0m\u001b[0;34m)\u001b[0m\u001b[0;34m\u001b[0m\u001b[0;34m\u001b[0m\u001b[0m\n\u001b[1;32m      4\u001b[0m \u001b[0mresult\u001b[0m \u001b[0;34m=\u001b[0m \u001b[0msm\u001b[0m\u001b[0;34m.\u001b[0m\u001b[0mOLS\u001b[0m\u001b[0;34m(\u001b[0m\u001b[0my\u001b[0m\u001b[0;34m,\u001b[0m \u001b[0mx\u001b[0m\u001b[0;34m)\u001b[0m\u001b[0;34m.\u001b[0m\u001b[0mfit\u001b[0m\u001b[0;34m(\u001b[0m\u001b[0;34m)\u001b[0m\u001b[0;34m\u001b[0m\u001b[0;34m\u001b[0m\u001b[0m\n\u001b[1;32m      5\u001b[0m \u001b[0mprint\u001b[0m\u001b[0;34m(\u001b[0m\u001b[0mresult\u001b[0m\u001b[0;34m.\u001b[0m\u001b[0msummary\u001b[0m\u001b[0;34m(\u001b[0m\u001b[0;34m)\u001b[0m\u001b[0;34m)\u001b[0m\u001b[0;34m\u001b[0m\u001b[0;34m\u001b[0m\u001b[0m\n",
            "\u001b[0;32m/usr/local/lib/python3.10/dist-packages/pandas/core/frame.py\u001b[0m in \u001b[0;36m__getitem__\u001b[0;34m(self, key)\u001b[0m\n\u001b[1;32m   3805\u001b[0m             \u001b[0;32mif\u001b[0m \u001b[0mself\u001b[0m\u001b[0;34m.\u001b[0m\u001b[0mcolumns\u001b[0m\u001b[0;34m.\u001b[0m\u001b[0mnlevels\u001b[0m \u001b[0;34m>\u001b[0m \u001b[0;36m1\u001b[0m\u001b[0;34m:\u001b[0m\u001b[0;34m\u001b[0m\u001b[0;34m\u001b[0m\u001b[0m\n\u001b[1;32m   3806\u001b[0m                 \u001b[0;32mreturn\u001b[0m \u001b[0mself\u001b[0m\u001b[0;34m.\u001b[0m\u001b[0m_getitem_multilevel\u001b[0m\u001b[0;34m(\u001b[0m\u001b[0mkey\u001b[0m\u001b[0;34m)\u001b[0m\u001b[0;34m\u001b[0m\u001b[0;34m\u001b[0m\u001b[0m\n\u001b[0;32m-> 3807\u001b[0;31m             \u001b[0mindexer\u001b[0m \u001b[0;34m=\u001b[0m \u001b[0mself\u001b[0m\u001b[0;34m.\u001b[0m\u001b[0mcolumns\u001b[0m\u001b[0;34m.\u001b[0m\u001b[0mget_loc\u001b[0m\u001b[0;34m(\u001b[0m\u001b[0mkey\u001b[0m\u001b[0;34m)\u001b[0m\u001b[0;34m\u001b[0m\u001b[0;34m\u001b[0m\u001b[0m\n\u001b[0m\u001b[1;32m   3808\u001b[0m             \u001b[0;32mif\u001b[0m \u001b[0mis_integer\u001b[0m\u001b[0;34m(\u001b[0m\u001b[0mindexer\u001b[0m\u001b[0;34m)\u001b[0m\u001b[0;34m:\u001b[0m\u001b[0;34m\u001b[0m\u001b[0;34m\u001b[0m\u001b[0m\n\u001b[1;32m   3809\u001b[0m                 \u001b[0mindexer\u001b[0m \u001b[0;34m=\u001b[0m \u001b[0;34m[\u001b[0m\u001b[0mindexer\u001b[0m\u001b[0;34m]\u001b[0m\u001b[0;34m\u001b[0m\u001b[0;34m\u001b[0m\u001b[0m\n",
            "\u001b[0;32m/usr/local/lib/python3.10/dist-packages/pandas/core/indexes/base.py\u001b[0m in \u001b[0;36mget_loc\u001b[0;34m(self, key, method, tolerance)\u001b[0m\n\u001b[1;32m   3802\u001b[0m                 \u001b[0;32mreturn\u001b[0m \u001b[0mself\u001b[0m\u001b[0;34m.\u001b[0m\u001b[0m_engine\u001b[0m\u001b[0;34m.\u001b[0m\u001b[0mget_loc\u001b[0m\u001b[0;34m(\u001b[0m\u001b[0mcasted_key\u001b[0m\u001b[0;34m)\u001b[0m\u001b[0;34m\u001b[0m\u001b[0;34m\u001b[0m\u001b[0m\n\u001b[1;32m   3803\u001b[0m             \u001b[0;32mexcept\u001b[0m \u001b[0mKeyError\u001b[0m \u001b[0;32mas\u001b[0m \u001b[0merr\u001b[0m\u001b[0;34m:\u001b[0m\u001b[0;34m\u001b[0m\u001b[0;34m\u001b[0m\u001b[0m\n\u001b[0;32m-> 3804\u001b[0;31m                 \u001b[0;32mraise\u001b[0m \u001b[0mKeyError\u001b[0m\u001b[0;34m(\u001b[0m\u001b[0mkey\u001b[0m\u001b[0;34m)\u001b[0m \u001b[0;32mfrom\u001b[0m \u001b[0merr\u001b[0m\u001b[0;34m\u001b[0m\u001b[0;34m\u001b[0m\u001b[0m\n\u001b[0m\u001b[1;32m   3805\u001b[0m             \u001b[0;32mexcept\u001b[0m \u001b[0mTypeError\u001b[0m\u001b[0;34m:\u001b[0m\u001b[0;34m\u001b[0m\u001b[0;34m\u001b[0m\u001b[0m\n\u001b[1;32m   3806\u001b[0m                 \u001b[0;31m# If we have a listlike key, _check_indexing_error will raise\u001b[0m\u001b[0;34m\u001b[0m\u001b[0;34m\u001b[0m\u001b[0m\n",
            "\u001b[0;31mKeyError\u001b[0m: 'dependent'"
          ]
        }
      ]
    },
    {
      "cell_type": "markdown",
      "source": [
        "## Visualization"
      ],
      "metadata": {
        "id": "k5eGUduiHViD"
      }
    },
    {
      "cell_type": "code",
      "source": [
        "import seaborn as sns\n",
        "\n",
        "corrmat = hdi.corr()\n",
        "f, ax = plt.subplots(figsize = (20, 20))\n",
        "sns.heatmap(corrmat, cmap = \"RdBu\", square = True, annot = True, center = 0);"
      ],
      "metadata": {
        "colab": {
          "base_uri": "https://localhost:8080/",
          "height": 1000
        },
        "id": "K2a2DjcpHpZk",
        "outputId": "daf8b586-a6cd-485e-fb4b-1961bd1eef38"
      },
      "execution_count": 54,
      "outputs": [
        {
          "output_type": "stream",
          "name": "stderr",
          "text": [
            "<ipython-input-54-26759cc2244d>:3: FutureWarning: The default value of numeric_only in DataFrame.corr is deprecated. In a future version, it will default to False. Select only valid columns or specify the value of numeric_only to silence this warning.\n",
            "  corrmat = hdi.corr()\n"
          ]
        },
        {
          "output_type": "display_data",
          "data": {
            "text/plain": [
              "<Figure size 1600x1600 with 2 Axes>"
            ],
            "image/png": "[encoded data removed]"
          },
          "metadata": {}
        }
      ]
    },
    {
      "cell_type": "code",
      "source": [
        "for var in independent:\n",
        "    plt.figure(figsize=(6, 5))\n"
      ],
      "metadata": {
        "colab": {
          "base_uri": "https://localhost:8080/",
          "height": 107
        },
        "id": "XUG_o0wNIqeu",
        "outputId": "93938fc8-e87c-4b05-c106-ad76aa31e7e7"
      },
      "execution_count": 61,
      "outputs": [
        {
          "output_type": "execute_result",
          "data": {
            "text/plain": [
              "<Figure size 480x400 with 0 Axes>"
            ]
          },
          "metadata": {},
          "execution_count": 61
        },
        {
          "output_type": "execute_result",
          "data": {
            "text/plain": [
              "<Figure size 480x400 with 0 Axes>"
            ]
          },
          "metadata": {},
          "execution_count": 61
        },
        {
          "output_type": "execute_result",
          "data": {
            "text/plain": [
              "<Figure size 480x400 with 0 Axes>"
            ]
          },
          "metadata": {},
          "execution_count": 61
        },
        {
          "output_type": "execute_result",
          "data": {
            "text/plain": [
              "<Figure size 480x400 with 0 Axes>"
            ]
          },
          "metadata": {},
          "execution_count": 61
        },
        {
          "output_type": "display_data",
          "data": {
            "text/plain": [
              "<Figure size 480x400 with 0 Axes>"
            ]
          },
          "metadata": {}
        },
        {
          "output_type": "display_data",
          "data": {
            "text/plain": [
              "<Figure size 480x400 with 0 Axes>"
            ]
          },
          "metadata": {}
        },
        {
          "output_type": "display_data",
          "data": {
            "text/plain": [
              "<Figure size 480x400 with 0 Axes>"
            ]
          },
          "metadata": {}
        },
        {
          "output_type": "display_data",
          "data": {
            "text/plain": [
              "<Figure size 480x400 with 0 Axes>"
            ]
          },
          "metadata": {}
        }
      ]
    }
  ]
}